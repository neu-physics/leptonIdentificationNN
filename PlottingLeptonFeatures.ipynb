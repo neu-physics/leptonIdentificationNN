{
 "cells": [
  {
   "cell_type": "markdown",
   "metadata": {},
   "source": [
    "# Plotting Lepton Features\n",
    "## Background\n",
    "The purpose of these plots is to show the distribution of lepton features for the purpose of better selecting neural network training data, and informing how well the network should train on a given dataset.\n",
    "## Procedure\n",
    "### Phase 1\n",
    "Plot lepton features without modifications to see distributions.\n",
    "### Phase 2 \n",
    "Made modifications to the lepton data to allow for plotting such that the plots of each lepton flavor can be compared. \n",
    "### Phase 3 \n",
    "Plot both electron and muon plots on same plot to see overlap\n",
    "### Phase 4\n",
    "Repeat phases 1, 2 and 3 with P<sup>2</sup> and -E<sup>2</sup>"
   ]
  },
  {
   "cell_type": "code",
   "execution_count": 1,
   "metadata": {},
   "outputs": [],
   "source": [
    "# Package imports\n",
    "import numpy as np\n",
    "# Matplotlib is a matlab like plotting library\n",
    "import matplotlib\n",
    "from matplotlib import pyplot as plt"
   ]
  },
  {
   "cell_type": "code",
   "execution_count": 2,
   "metadata": {},
   "outputs": [],
   "source": [
    "# pt eta phi E\n",
    "from DataExtraction import dataNoMass\n",
    "from DataExtraction import labels\n",
    "from DataExtraction import e2P2Dec"
   ]
  },
  {
   "cell_type": "code",
   "execution_count": 3,
   "metadata": {},
   "outputs": [],
   "source": [
    "ms = [] # array of muons\n",
    "es = [] # array of electrons"
   ]
  },
  {
   "cell_type": "code",
   "execution_count": 4,
   "metadata": {},
   "outputs": [],
   "source": [
    "for lept, im in zip(dataNoMass, labels):\n",
    "    if(im==1): \n",
    "        ms.append(lept)\n",
    "    if(im==0):\n",
    "        es.append(lept)"
   ]
  },
  {
   "cell_type": "code",
   "execution_count": 5,
   "metadata": {},
   "outputs": [],
   "source": [
    "ms = np.array(ms)\n",
    "es = np.array(es)"
   ]
  },
  {
   "cell_type": "code",
   "execution_count": 6,
   "metadata": {},
   "outputs": [],
   "source": [
    "# set plot colors\n",
    "mc = (0.0, 0.1, 0.9, 0.4)\n",
    "ec = (0.9, 0.1, 0.0, 0.7)"
   ]
  },
  {
   "cell_type": "code",
   "execution_count": 7,
   "metadata": {},
   "outputs": [
    {
     "data": {
      "text/plain": [
       "(array([2.980e+03, 3.639e+03, 3.847e+03, 3.904e+03, 3.689e+03, 3.066e+03,\n",
       "        2.939e+03, 2.602e+03, 2.084e+03, 1.814e+03, 1.562e+03, 1.239e+03,\n",
       "        9.910e+02, 8.990e+02, 7.240e+02, 5.910e+02, 5.120e+02, 4.100e+02,\n",
       "        3.490e+02, 2.890e+02, 2.380e+02, 2.090e+02, 1.650e+02, 1.320e+02,\n",
       "        1.160e+02, 9.900e+01, 7.500e+01, 7.600e+01, 6.400e+01, 5.500e+01,\n",
       "        4.800e+01, 3.900e+01, 2.100e+01, 2.900e+01, 3.400e+01, 1.900e+01,\n",
       "        2.300e+01, 1.500e+01, 1.000e+01, 7.000e+00, 1.900e+01, 1.000e+01,\n",
       "        1.100e+01, 1.000e+01, 1.000e+01, 5.000e+00, 6.000e+00, 2.000e+00,\n",
       "        3.000e+00, 4.000e+00, 1.000e+00, 5.000e+00, 3.000e+00, 1.000e+00,\n",
       "        3.000e+00, 4.000e+00, 6.000e+00, 3.000e+00, 2.000e+00, 4.000e+00,\n",
       "        0.000e+00, 0.000e+00, 0.000e+00, 1.000e+00, 0.000e+00, 0.000e+00,\n",
       "        1.000e+00, 0.000e+00, 0.000e+00, 0.000e+00, 0.000e+00, 0.000e+00,\n",
       "        0.000e+00, 0.000e+00, 0.000e+00, 0.000e+00, 0.000e+00, 0.000e+00,\n",
       "        0.000e+00, 1.000e+00, 0.000e+00, 0.000e+00, 0.000e+00, 0.000e+00,\n",
       "        0.000e+00, 0.000e+00, 0.000e+00, 0.000e+00, 0.000e+00, 0.000e+00,\n",
       "        0.000e+00, 0.000e+00, 0.000e+00, 1.000e+00, 0.000e+00, 0.000e+00,\n",
       "        0.000e+00, 0.000e+00, 0.000e+00, 1.000e+00]),\n",
       " array([ 15.00047398,  21.42938708,  27.85830019,  34.2872133 ,\n",
       "         40.7161264 ,  47.14503951,  53.57395262,  60.00286572,\n",
       "         66.43177883,  72.86069194,  79.28960505,  85.71851815,\n",
       "         92.14743126,  98.57634437, 105.00525747, 111.43417058,\n",
       "        117.86308369, 124.29199679, 130.7209099 , 137.14982301,\n",
       "        143.57873611, 150.00764922, 156.43656233, 162.86547544,\n",
       "        169.29438854, 175.72330165, 182.15221476, 188.58112786,\n",
       "        195.01004097, 201.43895408, 207.86786718, 214.29678029,\n",
       "        220.7256934 , 227.1546065 , 233.58351961, 240.01243272,\n",
       "        246.44134583, 252.87025893, 259.29917204, 265.72808515,\n",
       "        272.15699825, 278.58591136, 285.01482447, 291.44373757,\n",
       "        297.87265068, 304.30156379, 310.73047689, 317.15939   ,\n",
       "        323.58830311, 330.01721622, 336.44612932, 342.87504243,\n",
       "        349.30395554, 355.73286864, 362.16178175, 368.59069486,\n",
       "        375.01960796, 381.44852107, 387.87743418, 394.30634728,\n",
       "        400.73526039, 407.1641735 , 413.59308661, 420.02199971,\n",
       "        426.45091282, 432.87982593, 439.30873903, 445.73765214,\n",
       "        452.16656525, 458.59547835, 465.02439146, 471.45330457,\n",
       "        477.88221767, 484.31113078, 490.74004389, 497.168957  ,\n",
       "        503.5978701 , 510.02678321, 516.45569632, 522.88460942,\n",
       "        529.31352253, 535.74243564, 542.17134874, 548.60026185,\n",
       "        555.02917496, 561.45808806, 567.88700117, 574.31591428,\n",
       "        580.74482738, 587.17374049, 593.6026536 , 600.03156671,\n",
       "        606.46047981, 612.88939292, 619.31830603, 625.74721913,\n",
       "        632.17613224, 638.60504535, 645.03395845, 651.46287156,\n",
       "        657.89178467]),\n",
       " <a list of 100 Patch objects>)"
      ]
     },
     "execution_count": 7,
     "metadata": {},
     "output_type": "execute_result"
    },
    {
     "data": {
      "image/png": "[encoded data removed]",
      "text/plain": [
       "<Figure size 432x288 with 2 Axes>"
      ]
     },
     "metadata": {
      "needs_background": "light"
     },
     "output_type": "display_data"
    }
   ],
   "source": [
    "# Phase 1 plot\n",
    "plt.title(\"Lepton Transverse Momentum\")\n",
    "plt.subplot(1,2,1)\n",
    "plt.title(\"Muon pt\")\n",
    "plt.hist(ms[:,0], label=\"Muons\", color=mc, bins=100)\n",
    "plt.subplot(1,2,2)\n",
    "plt.title(\"Electron pt\")\n",
    "plt.hist(es[:,0], label=\"Electrons\", color=ec, bins=100)"
   ]
  },
  {
   "cell_type": "code",
   "execution_count": 8,
   "metadata": {},
   "outputs": [
    {
     "data": {
      "text/plain": [
       "(array([1.715e+03, 1.970e+03, 2.193e+03, 2.280e+03, 2.280e+03, 2.343e+03,\n",
       "        2.308e+03, 2.217e+03, 2.010e+03, 1.766e+03, 1.802e+03, 1.679e+03,\n",
       "        1.570e+03, 1.374e+03, 1.203e+03, 1.156e+03, 9.730e+02, 9.630e+02,\n",
       "        8.340e+02, 6.930e+02, 6.260e+02, 5.510e+02, 5.390e+02, 5.120e+02,\n",
       "        4.000e+02, 3.450e+02, 3.570e+02, 3.160e+02, 2.680e+02, 2.380e+02,\n",
       "        2.060e+02, 2.070e+02, 1.780e+02, 1.420e+02, 1.380e+02, 1.380e+02,\n",
       "        1.160e+02, 9.800e+01, 8.800e+01, 8.100e+01, 5.700e+01, 6.700e+01,\n",
       "        5.500e+01, 5.800e+01, 4.800e+01, 3.800e+01, 5.200e+01, 4.100e+01,\n",
       "        3.600e+01, 3.000e+01, 3.100e+01, 2.600e+01, 2.500e+01, 1.800e+01,\n",
       "        1.100e+01, 1.700e+01, 1.900e+01, 2.100e+01, 1.100e+01, 1.300e+01,\n",
       "        1.300e+01, 1.400e+01, 1.200e+01, 5.000e+00, 4.000e+00, 7.000e+00,\n",
       "        3.000e+00, 1.100e+01, 1.300e+01, 4.000e+00, 8.000e+00, 4.000e+00,\n",
       "        5.000e+00, 7.000e+00, 5.000e+00, 7.000e+00, 0.000e+00, 5.000e+00,\n",
       "        1.000e+00, 1.000e+00, 4.000e+00, 0.000e+00, 3.000e+00, 2.000e+00,\n",
       "        0.000e+00, 3.000e+00, 3.000e+00, 1.000e+00, 1.000e+00, 1.000e+00,\n",
       "        1.000e+00, 2.000e+00, 2.000e+00, 3.000e+00, 4.000e+00, 4.000e+00,\n",
       "        0.000e+00, 1.000e+00, 3.000e+00, 2.000e+00]),\n",
       " array([ 15.00047398,  18.84735705,  22.69424013,  26.54112321,\n",
       "         30.38800629,  34.23488936,  38.08177244,  41.92865552,\n",
       "         45.7755386 ,  49.62242167,  53.46930475,  57.31618783,\n",
       "         61.16307091,  65.00995399,  68.85683706,  72.70372014,\n",
       "         76.55060322,  80.3974863 ,  84.24436937,  88.09125245,\n",
       "         91.93813553,  95.78501861,  99.63190168, 103.47878476,\n",
       "        107.32566784, 111.17255092, 115.01943399, 118.86631707,\n",
       "        122.71320015, 126.56008323, 130.4069663 , 134.25384938,\n",
       "        138.10073246, 141.94761554, 145.79449862, 149.64138169,\n",
       "        153.48826477, 157.33514785, 161.18203093, 165.028914  ,\n",
       "        168.87579708, 172.72268016, 176.56956324, 180.41644631,\n",
       "        184.26332939, 188.11021247, 191.95709555, 195.80397862,\n",
       "        199.6508617 , 203.49774478, 207.34462786, 211.19151093,\n",
       "        215.03839401, 218.88527709, 222.73216017, 226.57904325,\n",
       "        230.42592632, 234.2728094 , 238.11969248, 241.96657556,\n",
       "        245.81345863, 249.66034171, 253.50722479, 257.35410787,\n",
       "        261.20099094, 265.04787402, 268.8947571 , 272.74164018,\n",
       "        276.58852325, 280.43540633, 284.28228941, 288.12917249,\n",
       "        291.97605556, 295.82293864, 299.66982172, 303.5167048 ,\n",
       "        307.36358788, 311.21047095, 315.05735403, 318.90423711,\n",
       "        322.75112019, 326.59800326, 330.44488634, 334.29176942,\n",
       "        338.1386525 , 341.98553557, 345.83241865, 349.67930173,\n",
       "        353.52618481, 357.37306788, 361.21995096, 365.06683404,\n",
       "        368.91371712, 372.76060019, 376.60748327, 380.45436635,\n",
       "        384.30124943, 388.14813251, 391.99501558, 395.84189866,\n",
       "        399.68878174]),\n",
       " <a list of 100 Patch objects>)"
      ]
     },
     "execution_count": 8,
     "metadata": {},
     "output_type": "execute_result"
    },
    {
     "data": {
      "image/png": "[encoded data removed]",
      "text/plain": [
       "<Figure size 432x288 with 2 Axes>"
      ]
     },
     "metadata": {
      "needs_background": "light"
     },
     "output_type": "display_data"
    }
   ],
   "source": [
    "##### Phase 2 plot\n",
    "# todo: figure out why the density flag isn't working\n",
    "# todo: count number of discarded muon values bc the shape up there is really interesting\n",
    "# discarded muon values above 50000, found that should delete above 5000\n",
    "# discarded muon values above 5000, found that should delete above 2000\n",
    "# discarded muon values above 2000, found that should delete above 750\n",
    "# discarded muon values above 750, found that should delete above 450\n",
    "# discarded electron values above 450\n",
    "# discarded electron and muon values above 400\n",
    "# made axis limits the same for both \n",
    "\n",
    "# prune muon data\n",
    "mpts = []\n",
    "for m in ms: \n",
    "    if(m[0]<400):\n",
    "        mpts.append(m[0])\n",
    "mpts = np.array(mpts)\n",
    "\n",
    "# prune electron data\n",
    "epts = []\n",
    "for e in es: \n",
    "    if(e[0]<400):\n",
    "        epts.append(e[0])\n",
    "epts = np.array(epts)\n",
    "\n",
    "plt.title(\"Lepton Transverse Momentum\")\n",
    "plt.subplot(1,2,1)\n",
    "plt.ylim(0,2500)\n",
    "plt.title(\"Muon pt\")\n",
    "plt.hist(mpts, label=\"Muons\", color=mc, bins=100)\n",
    "plt.subplot(1,2,2)\n",
    "plt.ylim(0,2500)\n",
    "plt.title(\"Electron pt\")\n",
    "plt.hist(epts, label=\"Electrons\", color=ec, bins=100)"
   ]
  },
  {
   "cell_type": "code",
   "execution_count": 12,
   "metadata": {},
   "outputs": [
    {
     "data": {
      "image/png": "[encoded data removed]",
      "text/plain": [
       "<Figure size 432x288 with 1 Axes>"
      ]
     },
     "metadata": {
      "needs_background": "light"
     },
     "output_type": "display_data"
    }
   ],
   "source": [
    "# Phase 3 plot\n",
    "plt.title(\"Lepton Transverse Momentum Distribution\")\n",
    "plt.ylim(0,2500)\n",
    "plt.hist(epts, label=\"Electrons\", color=ec, bins=100)\n",
    "plt.hist(mpts, label=\"Muons\", color=mc, bins=100)\n",
    "plt.legend()\n",
    "plt.savefig(\"leptPtDist.png\")"
   ]
  },
  {
   "cell_type": "code",
   "execution_count": 13,
   "metadata": {},
   "outputs": [
    {
     "data": {
      "text/plain": [
       "(array([143., 156., 150., 186., 171., 198., 204., 230., 249., 269., 241.,\n",
       "        298., 270., 308., 296., 330., 328., 299., 137., 283., 391., 362.,\n",
       "        362., 381., 448., 454., 414., 480., 487., 487., 517., 477., 492.,\n",
       "        503., 503., 504., 566., 542., 554., 556., 521., 547., 544., 599.,\n",
       "        571., 552., 558., 591., 561., 571., 565., 594., 601., 599., 583.,\n",
       "        599., 601., 571., 528., 571., 585., 549., 578., 524., 517., 500.,\n",
       "        512., 507., 472., 469., 431., 464., 464., 409., 445., 399., 360.,\n",
       "        370., 383., 369., 250., 149., 284., 337., 335., 311., 257., 264.,\n",
       "        252., 259., 265., 249., 220., 227., 215., 214., 196., 166., 162.,\n",
       "        149.]),\n",
       " array([-2.39981532e+00, -2.35182317e+00, -2.30383102e+00, -2.25583887e+00,\n",
       "        -2.20784672e+00, -2.15985457e+00, -2.11186242e+00, -2.06387027e+00,\n",
       "        -2.01587811e+00, -1.96788596e+00, -1.91989381e+00, -1.87190166e+00,\n",
       "        -1.82390951e+00, -1.77591736e+00, -1.72792521e+00, -1.67993306e+00,\n",
       "        -1.63194091e+00, -1.58394876e+00, -1.53595661e+00, -1.48796446e+00,\n",
       "        -1.43997231e+00, -1.39198015e+00, -1.34398800e+00, -1.29599585e+00,\n",
       "        -1.24800370e+00, -1.20001155e+00, -1.15201940e+00, -1.10402725e+00,\n",
       "        -1.05603510e+00, -1.00804295e+00, -9.60050797e-01, -9.12058647e-01,\n",
       "        -8.64066496e-01, -8.16074345e-01, -7.68082194e-01, -7.20090044e-01,\n",
       "        -6.72097893e-01, -6.24105742e-01, -5.76113591e-01, -5.28121440e-01,\n",
       "        -4.80129290e-01, -4.32137139e-01, -3.84144988e-01, -3.36152837e-01,\n",
       "        -2.88160686e-01, -2.40168536e-01, -1.92176385e-01, -1.44184234e-01,\n",
       "        -9.61920834e-02, -4.81999326e-02, -2.07781792e-04,  4.77843690e-02,\n",
       "         9.57765198e-02,  1.43768671e-01,  1.91760821e-01,  2.39752972e-01,\n",
       "         2.87745123e-01,  3.35737274e-01,  3.83729424e-01,  4.31721575e-01,\n",
       "         4.79713726e-01,  5.27705877e-01,  5.75698028e-01,  6.23690178e-01,\n",
       "         6.71682329e-01,  7.19674480e-01,  7.67666631e-01,  8.15658782e-01,\n",
       "         8.63650932e-01,  9.11643083e-01,  9.59635234e-01,  1.00762738e+00,\n",
       "         1.05561954e+00,  1.10361169e+00,  1.15160384e+00,  1.19959599e+00,\n",
       "         1.24758814e+00,  1.29558029e+00,  1.34357244e+00,  1.39156459e+00,\n",
       "         1.43955674e+00,  1.48754889e+00,  1.53554104e+00,  1.58353319e+00,\n",
       "         1.63152534e+00,  1.67951750e+00,  1.72750965e+00,  1.77550180e+00,\n",
       "         1.82349395e+00,  1.87148610e+00,  1.91947825e+00,  1.96747040e+00,\n",
       "         2.01546255e+00,  2.06345470e+00,  2.11144685e+00,  2.15943900e+00,\n",
       "         2.20743115e+00,  2.25542331e+00,  2.30341546e+00,  2.35140761e+00,\n",
       "         2.39939976e+00]),\n",
       " <a list of 100 Patch objects>)"
      ]
     },
     "execution_count": 13,
     "metadata": {},
     "output_type": "execute_result"
    },
    {
     "data": {
      "image/png": "[encoded data removed]",
      "text/plain": [
       "<Figure size 432x288 with 2 Axes>"
      ]
     },
     "metadata": {
      "needs_background": "light"
     },
     "output_type": "display_data"
    }
   ],
   "source": [
    "# Phase 1 plot\n",
    "plt.subplot(1,2,1)\n",
    "plt.title(\"Muon Eta\")\n",
    "plt.hist(ms[:,1], label=\"Muons\", color=mc, bins=100)\n",
    "plt.subplot(1,2,2)\n",
    "plt.title(\"Electron Eta\")\n",
    "plt.hist(es[:,1], label=\"Electrons\", color=ec, bins=100)\n",
    "# plt.plot(es[:,3], label=\"Electrons\", color=ec)\n",
    "#plt.legend()\n"
   ]
  },
  {
   "cell_type": "code",
   "execution_count": 14,
   "metadata": {},
   "outputs": [
    {
     "data": {
      "text/plain": [
       "(array([143., 156., 150., 186., 171., 198., 204., 230., 249., 269., 241.,\n",
       "        298., 270., 308., 296., 330., 328., 299., 137., 283., 391., 362.,\n",
       "        362., 381., 448., 454., 414., 480., 487., 487., 517., 477., 492.,\n",
       "        503., 503., 504., 566., 542., 554., 556., 521., 547., 544., 599.,\n",
       "        571., 552., 558., 591., 561., 571., 565., 594., 601., 599., 583.,\n",
       "        599., 601., 571., 528., 571., 585., 549., 578., 524., 517., 500.,\n",
       "        512., 507., 472., 469., 431., 464., 464., 409., 445., 399., 360.,\n",
       "        370., 383., 369., 250., 149., 284., 337., 335., 311., 257., 264.,\n",
       "        252., 259., 265., 249., 220., 227., 215., 214., 196., 166., 162.,\n",
       "        149.]),\n",
       " array([-2.39981532e+00, -2.35182317e+00, -2.30383102e+00, -2.25583887e+00,\n",
       "        -2.20784672e+00, -2.15985457e+00, -2.11186242e+00, -2.06387027e+00,\n",
       "        -2.01587811e+00, -1.96788596e+00, -1.91989381e+00, -1.87190166e+00,\n",
       "        -1.82390951e+00, -1.77591736e+00, -1.72792521e+00, -1.67993306e+00,\n",
       "        -1.63194091e+00, -1.58394876e+00, -1.53595661e+00, -1.48796446e+00,\n",
       "        -1.43997231e+00, -1.39198015e+00, -1.34398800e+00, -1.29599585e+00,\n",
       "        -1.24800370e+00, -1.20001155e+00, -1.15201940e+00, -1.10402725e+00,\n",
       "        -1.05603510e+00, -1.00804295e+00, -9.60050797e-01, -9.12058647e-01,\n",
       "        -8.64066496e-01, -8.16074345e-01, -7.68082194e-01, -7.20090044e-01,\n",
       "        -6.72097893e-01, -6.24105742e-01, -5.76113591e-01, -5.28121440e-01,\n",
       "        -4.80129290e-01, -4.32137139e-01, -3.84144988e-01, -3.36152837e-01,\n",
       "        -2.88160686e-01, -2.40168536e-01, -1.92176385e-01, -1.44184234e-01,\n",
       "        -9.61920834e-02, -4.81999326e-02, -2.07781792e-04,  4.77843690e-02,\n",
       "         9.57765198e-02,  1.43768671e-01,  1.91760821e-01,  2.39752972e-01,\n",
       "         2.87745123e-01,  3.35737274e-01,  3.83729424e-01,  4.31721575e-01,\n",
       "         4.79713726e-01,  5.27705877e-01,  5.75698028e-01,  6.23690178e-01,\n",
       "         6.71682329e-01,  7.19674480e-01,  7.67666631e-01,  8.15658782e-01,\n",
       "         8.63650932e-01,  9.11643083e-01,  9.59635234e-01,  1.00762738e+00,\n",
       "         1.05561954e+00,  1.10361169e+00,  1.15160384e+00,  1.19959599e+00,\n",
       "         1.24758814e+00,  1.29558029e+00,  1.34357244e+00,  1.39156459e+00,\n",
       "         1.43955674e+00,  1.48754889e+00,  1.53554104e+00,  1.58353319e+00,\n",
       "         1.63152534e+00,  1.67951750e+00,  1.72750965e+00,  1.77550180e+00,\n",
       "         1.82349395e+00,  1.87148610e+00,  1.91947825e+00,  1.96747040e+00,\n",
       "         2.01546255e+00,  2.06345470e+00,  2.11144685e+00,  2.15943900e+00,\n",
       "         2.20743115e+00,  2.25542331e+00,  2.30341546e+00,  2.35140761e+00,\n",
       "         2.39939976e+00]),\n",
       " <a list of 100 Patch objects>)"
      ]
     },
     "execution_count": 14,
     "metadata": {},
     "output_type": "execute_result"
    },
    {
     "data": {
      "image/png": "[encoded data removed]",
      "text/plain": [
       "<Figure size 432x288 with 2 Axes>"
      ]
     },
     "metadata": {
      "needs_background": "light"
     },
     "output_type": "display_data"
    }
   ],
   "source": [
    "# Phase 2 plot\n",
    "# standardized plot axes \n",
    "plt.subplot(1,2,1)\n",
    "plt.ylim(0, 640)\n",
    "plt.xlim(-2.5, 2.5)\n",
    "plt.title(\"Muon Eta\")\n",
    "plt.hist(ms[:,1], label=\"Muons\", color=mc, bins=100)\n",
    "plt.subplot(1,2,2)\n",
    "plt.ylim(0, 640)\n",
    "plt.xlim(-2.5, 2.5)\n",
    "plt.title(\"Electron Eta\")\n",
    "plt.hist(es[:,1], label=\"Electrons\", color=ec, bins=100)\n",
    "# plt.plot(es[:,3], label=\"Electrons\", color=ec)\n",
    "#plt.legend()"
   ]
  },
  {
   "cell_type": "code",
   "execution_count": 16,
   "metadata": {},
   "outputs": [
    {
     "data": {
      "image/png": "[encoded data removed]",
      "text/plain": [
       "<Figure size 432x288 with 1 Axes>"
      ]
     },
     "metadata": {
      "needs_background": "light"
     },
     "output_type": "display_data"
    }
   ],
   "source": [
    "# Phase 3 plot\n",
    "plt.ylim(0, 640)\n",
    "plt.xlim(-2.5, 2.5)\n",
    "plt.title(\"Lepton Eta Distribution\")\n",
    "plt.hist(es[:,1], label=\"Electrons\", color=ec, bins=100)\n",
    "plt.hist(ms[:,1], label=\"Muons\", color=mc, bins=100)\n",
    "plt.legend()\n",
    "plt.savefig(\"leptEtaDist.png\")"
   ]
  },
  {
   "cell_type": "code",
   "execution_count": 17,
   "metadata": {},
   "outputs": [
    {
     "data": {
      "text/plain": [
       "(array([402., 394., 404., 388., 390., 421., 427., 406., 426., 407., 397.,\n",
       "        428., 393., 414., 389., 386., 387., 421., 397., 389., 415., 382.,\n",
       "        411., 409., 388., 424., 411., 371., 437., 381., 375., 397., 411.,\n",
       "        409., 403., 387., 437., 405., 381., 388., 408., 396., 394., 401.,\n",
       "        387., 414., 397., 404., 423., 405., 413., 409., 377., 395., 402.,\n",
       "        403., 403., 384., 392., 377., 406., 361., 369., 417., 375., 373.,\n",
       "        356., 406., 424., 387., 385., 413., 454., 349., 415., 404., 394.,\n",
       "        396., 381., 413., 378., 384., 433., 430., 388., 403., 375., 356.,\n",
       "        399., 402., 435., 340., 436., 372., 370., 342., 349., 405., 390.,\n",
       "        384.]),\n",
       " array([-3.14097357e+00, -3.07814862e+00, -3.01532367e+00, -2.95249872e+00,\n",
       "        -2.88967377e+00, -2.82684882e+00, -2.76402387e+00, -2.70119892e+00,\n",
       "        -2.63837397e+00, -2.57554902e+00, -2.51272407e+00, -2.44989912e+00,\n",
       "        -2.38707417e+00, -2.32424922e+00, -2.26142426e+00, -2.19859931e+00,\n",
       "        -2.13577436e+00, -2.07294941e+00, -2.01012446e+00, -1.94729951e+00,\n",
       "        -1.88447456e+00, -1.82164961e+00, -1.75882466e+00, -1.69599971e+00,\n",
       "        -1.63317476e+00, -1.57034981e+00, -1.50752486e+00, -1.44469991e+00,\n",
       "        -1.38187496e+00, -1.31905001e+00, -1.25622506e+00, -1.19340011e+00,\n",
       "        -1.13057516e+00, -1.06775021e+00, -1.00492526e+00, -9.42100310e-01,\n",
       "        -8.79275360e-01, -8.16450410e-01, -7.53625460e-01, -6.90800509e-01,\n",
       "        -6.27975559e-01, -5.65150609e-01, -5.02325659e-01, -4.39500709e-01,\n",
       "        -3.76675758e-01, -3.13850808e-01, -2.51025858e-01, -1.88200908e-01,\n",
       "        -1.25375957e-01, -6.25510073e-02,  2.73942947e-04,  6.30988932e-02,\n",
       "         1.25923843e-01,  1.88748794e-01,  2.51573744e-01,  3.14398694e-01,\n",
       "         3.77223644e-01,  4.40048594e-01,  5.02873545e-01,  5.65698495e-01,\n",
       "         6.28523445e-01,  6.91348395e-01,  7.54173346e-01,  8.16998296e-01,\n",
       "         8.79823246e-01,  9.42648196e-01,  1.00547315e+00,  1.06829810e+00,\n",
       "         1.13112305e+00,  1.19394800e+00,  1.25677295e+00,  1.31959790e+00,\n",
       "         1.38242285e+00,  1.44524780e+00,  1.50807275e+00,  1.57089770e+00,\n",
       "         1.63372265e+00,  1.69654760e+00,  1.75937255e+00,  1.82219750e+00,\n",
       "         1.88502245e+00,  1.94784740e+00,  2.01067235e+00,  2.07349730e+00,\n",
       "         2.13632225e+00,  2.19914720e+00,  2.26197215e+00,  2.32479710e+00,\n",
       "         2.38762205e+00,  2.45044700e+00,  2.51327195e+00,  2.57609690e+00,\n",
       "         2.63892185e+00,  2.70174680e+00,  2.76457175e+00,  2.82739670e+00,\n",
       "         2.89022165e+00,  2.95304660e+00,  3.01587155e+00,  3.07869650e+00,\n",
       "         3.14152145e+00]),\n",
       " <a list of 100 Patch objects>)"
      ]
     },
     "execution_count": 17,
     "metadata": {},
     "output_type": "execute_result"
    },
    {
     "data": {
      "image/png": "[encoded data removed]",
      "text/plain": [
       "<Figure size 432x288 with 2 Axes>"
      ]
     },
     "metadata": {
      "needs_background": "light"
     },
     "output_type": "display_data"
    }
   ],
   "source": [
    "# Phase 1 plot\n",
    "plt.title(\"Lepton Phi\")\n",
    "plt.subplot(1,2,1)\n",
    "plt.title(\"Muon Phi\")\n",
    "plt.hist(ms[:,2], label=\"Muons\", color=mc, bins=100)\n",
    "plt.subplot(1,2,2)\n",
    "plt.title(\"Electron Phi\")\n",
    "plt.hist(es[:,2], label=\"Electrons\", color=ec, bins=100)\n"
   ]
  },
  {
   "cell_type": "code",
   "execution_count": 18,
   "metadata": {},
   "outputs": [
    {
     "data": {
      "text/plain": [
       "(array([402., 394., 404., 388., 390., 421., 427., 406., 426., 407., 397.,\n",
       "        428., 393., 414., 389., 386., 387., 421., 397., 389., 415., 382.,\n",
       "        411., 409., 388., 424., 411., 371., 437., 381., 375., 397., 411.,\n",
       "        409., 403., 387., 437., 405., 381., 388., 408., 396., 394., 401.,\n",
       "        387., 414., 397., 404., 423., 405., 413., 409., 377., 395., 402.,\n",
       "        403., 403., 384., 392., 377., 406., 361., 369., 417., 375., 373.,\n",
       "        356., 406., 424., 387., 385., 413., 454., 349., 415., 404., 394.,\n",
       "        396., 381., 413., 378., 384., 433., 430., 388., 403., 375., 356.,\n",
       "        399., 402., 435., 340., 436., 372., 370., 342., 349., 405., 390.,\n",
       "        384.]),\n",
       " array([-3.14097357e+00, -3.07814862e+00, -3.01532367e+00, -2.95249872e+00,\n",
       "        -2.88967377e+00, -2.82684882e+00, -2.76402387e+00, -2.70119892e+00,\n",
       "        -2.63837397e+00, -2.57554902e+00, -2.51272407e+00, -2.44989912e+00,\n",
       "        -2.38707417e+00, -2.32424922e+00, -2.26142426e+00, -2.19859931e+00,\n",
       "        -2.13577436e+00, -2.07294941e+00, -2.01012446e+00, -1.94729951e+00,\n",
       "        -1.88447456e+00, -1.82164961e+00, -1.75882466e+00, -1.69599971e+00,\n",
       "        -1.63317476e+00, -1.57034981e+00, -1.50752486e+00, -1.44469991e+00,\n",
       "        -1.38187496e+00, -1.31905001e+00, -1.25622506e+00, -1.19340011e+00,\n",
       "        -1.13057516e+00, -1.06775021e+00, -1.00492526e+00, -9.42100310e-01,\n",
       "        -8.79275360e-01, -8.16450410e-01, -7.53625460e-01, -6.90800509e-01,\n",
       "        -6.27975559e-01, -5.65150609e-01, -5.02325659e-01, -4.39500709e-01,\n",
       "        -3.76675758e-01, -3.13850808e-01, -2.51025858e-01, -1.88200908e-01,\n",
       "        -1.25375957e-01, -6.25510073e-02,  2.73942947e-04,  6.30988932e-02,\n",
       "         1.25923843e-01,  1.88748794e-01,  2.51573744e-01,  3.14398694e-01,\n",
       "         3.77223644e-01,  4.40048594e-01,  5.02873545e-01,  5.65698495e-01,\n",
       "         6.28523445e-01,  6.91348395e-01,  7.54173346e-01,  8.16998296e-01,\n",
       "         8.79823246e-01,  9.42648196e-01,  1.00547315e+00,  1.06829810e+00,\n",
       "         1.13112305e+00,  1.19394800e+00,  1.25677295e+00,  1.31959790e+00,\n",
       "         1.38242285e+00,  1.44524780e+00,  1.50807275e+00,  1.57089770e+00,\n",
       "         1.63372265e+00,  1.69654760e+00,  1.75937255e+00,  1.82219750e+00,\n",
       "         1.88502245e+00,  1.94784740e+00,  2.01067235e+00,  2.07349730e+00,\n",
       "         2.13632225e+00,  2.19914720e+00,  2.26197215e+00,  2.32479710e+00,\n",
       "         2.38762205e+00,  2.45044700e+00,  2.51327195e+00,  2.57609690e+00,\n",
       "         2.63892185e+00,  2.70174680e+00,  2.76457175e+00,  2.82739670e+00,\n",
       "         2.89022165e+00,  2.95304660e+00,  3.01587155e+00,  3.07869650e+00,\n",
       "         3.14152145e+00]),\n",
       " <a list of 100 Patch objects>)"
      ]
     },
     "execution_count": 18,
     "metadata": {},
     "output_type": "execute_result"
    },
    {
     "data": {
      "image/png": "[encoded data removed]",
      "text/plain": [
       "<Figure size 432x288 with 2 Axes>"
      ]
     },
     "metadata": {
      "needs_background": "light"
     },
     "output_type": "display_data"
    }
   ],
   "source": [
    "# Phase 2 plot\n",
    "# standardized plot axes, but it clearly didn't need it\n",
    "# todo: figure out why density=1 doesn't work \n",
    "mphis = ms[:,2]\n",
    "ephis = es[:,2]\n",
    "plt.title(\"Lepton Phi\")\n",
    "plt.subplot(1,2,1)\n",
    "plt.ylim(0, 460)\n",
    "plt.xlim(-3.3, 3.3)\n",
    "plt.title(\"Muon Phi\")\n",
    "plt.hist(mphis, label=\"Muons\", color=mc, bins=100)\n",
    "plt.subplot(1,2,2)\n",
    "plt.ylim(0, 460)\n",
    "plt.xlim(-3.3, 3.3)\n",
    "plt.title(\"Electron Phi\")\n",
    "plt.hist(ephis, label=\"Electrons\", color=ec, bins=100)"
   ]
  },
  {
   "cell_type": "code",
   "execution_count": 20,
   "metadata": {},
   "outputs": [
    {
     "data": {
      "image/png": "[encoded data removed]",
      "text/plain": [
       "<Figure size 432x288 with 1 Axes>"
      ]
     },
     "metadata": {
      "needs_background": "light"
     },
     "output_type": "display_data"
    }
   ],
   "source": [
    "# Phase 3 plot\n",
    "plt.title(\"Lepton Phi Distribution\")\n",
    "plt.ylim(0, 460)\n",
    "plt.xlim(-3.3, 3.3)\n",
    "plt.hist(es[:,2], label=\"Electrons\", color=ec, bins=100)\n",
    "plt.hist(ms[:,2], label=\"Muons\", color=mc, bins=100)\n",
    "plt.legend()\n",
    "plt.savefig(\"leptPhiDist.png\")"
   ]
  },
  {
   "cell_type": "code",
   "execution_count": 21,
   "metadata": {},
   "outputs": [
    {
     "data": {
      "text/plain": [
       "(array([3.628e+03, 5.915e+03, 5.819e+03, 4.977e+03, 3.795e+03, 3.039e+03,\n",
       "        2.299e+03, 1.867e+03, 1.440e+03, 1.139e+03, 8.680e+02, 7.980e+02,\n",
       "        6.270e+02, 5.410e+02, 4.280e+02, 3.730e+02, 3.140e+02, 2.480e+02,\n",
       "        2.120e+02, 1.970e+02, 1.600e+02, 1.490e+02, 1.040e+02, 9.800e+01,\n",
       "        9.400e+01, 6.600e+01, 7.900e+01, 6.400e+01, 4.700e+01, 3.900e+01,\n",
       "        4.200e+01, 2.200e+01, 2.500e+01, 1.200e+01, 1.900e+01, 2.900e+01,\n",
       "        1.600e+01, 1.100e+01, 1.300e+01, 1.900e+01, 1.200e+01, 4.000e+00,\n",
       "        8.000e+00, 3.000e+00, 6.000e+00, 1.000e+00, 4.000e+00, 5.000e+00,\n",
       "        2.000e+00, 6.000e+00, 5.000e+00, 1.000e+00, 3.000e+00, 2.000e+00,\n",
       "        2.000e+00, 4.000e+00, 1.000e+00, 1.000e+00, 2.000e+00, 2.000e+00,\n",
       "        3.000e+00, 2.000e+00, 0.000e+00, 0.000e+00, 0.000e+00, 0.000e+00,\n",
       "        2.000e+00, 2.000e+00, 0.000e+00, 1.000e+00, 0.000e+00, 2.000e+00,\n",
       "        0.000e+00, 0.000e+00, 0.000e+00, 1.000e+00, 0.000e+00, 0.000e+00,\n",
       "        0.000e+00, 1.000e+00, 0.000e+00, 0.000e+00, 0.000e+00, 0.000e+00,\n",
       "        0.000e+00, 0.000e+00, 0.000e+00, 0.000e+00, 0.000e+00, 0.000e+00,\n",
       "        0.000e+00, 0.000e+00, 0.000e+00, 0.000e+00, 0.000e+00, 0.000e+00,\n",
       "        0.000e+00, 0.000e+00, 0.000e+00, 1.000e+00]),\n",
       " array([  15.02103616,   31.70442934,   48.38782252,   65.0712157 ,\n",
       "          81.75460887,   98.43800205,  115.12139523,  131.80478841,\n",
       "         148.48818158,  165.17157476,  181.85496794,  198.53836112,\n",
       "         215.22175429,  231.90514747,  248.58854065,  265.27193383,\n",
       "         281.955327  ,  298.63872018,  315.32211336,  332.00550654,\n",
       "         348.68889971,  365.37229289,  382.05568607,  398.73907925,\n",
       "         415.42247242,  432.1058656 ,  448.78925878,  465.47265195,\n",
       "         482.15604513,  498.83943831,  515.52283149,  532.20622466,\n",
       "         548.88961784,  565.57301102,  582.2564042 ,  598.93979737,\n",
       "         615.62319055,  632.30658373,  648.98997691,  665.67337008,\n",
       "         682.35676326,  699.04015644,  715.72354962,  732.40694279,\n",
       "         749.09033597,  765.77372915,  782.45712233,  799.1405155 ,\n",
       "         815.82390868,  832.50730186,  849.19069504,  865.87408821,\n",
       "         882.55748139,  899.24087457,  915.92426775,  932.60766092,\n",
       "         949.2910541 ,  965.97444728,  982.65784045,  999.34123363,\n",
       "        1016.02462681, 1032.70801999, 1049.39141316, 1066.07480634,\n",
       "        1082.75819952, 1099.4415927 , 1116.12498587, 1132.80837905,\n",
       "        1149.49177223, 1166.17516541, 1182.85855858, 1199.54195176,\n",
       "        1216.22534494, 1232.90873812, 1249.59213129, 1266.27552447,\n",
       "        1282.95891765, 1299.64231083, 1316.325704  , 1333.00909718,\n",
       "        1349.69249036, 1366.37588354, 1383.05927671, 1399.74266989,\n",
       "        1416.42606307, 1433.10945625, 1449.79284942, 1466.4762426 ,\n",
       "        1483.15963578, 1499.84302895, 1516.52642213, 1533.20981531,\n",
       "        1549.89320849, 1566.57660166, 1583.25999484, 1599.94338802,\n",
       "        1616.6267812 , 1633.31017437, 1649.99356755, 1666.67696073,\n",
       "        1683.36035391]),\n",
       " <a list of 100 Patch objects>)"
      ]
     },
     "execution_count": 21,
     "metadata": {},
     "output_type": "execute_result"
    },
    {
     "data": {
      "image/png": "[encoded data removed]",
      "text/plain": [
       "<Figure size 432x288 with 2 Axes>"
      ]
     },
     "metadata": {
      "needs_background": "light"
     },
     "output_type": "display_data"
    }
   ],
   "source": [
    "# Phase 1 plot\n",
    "plt.title(\"Lepton Energy Distribution\")\n",
    "plt.subplot(1,2,1)\n",
    "plt.title(\"Muon Energy\")\n",
    "plt.hist(ms[:,3], label=\"Muons\", color=mc, bins=100)\n",
    "plt.subplot(1,2,2)\n",
    "plt.title(\"Electron Energy\")\n",
    "plt.hist(es[:,3], label=\"Electrons\", color=ec, bins=100)"
   ]
  },
  {
   "cell_type": "code",
   "execution_count": 22,
   "metadata": {},
   "outputs": [
    {
     "data": {
      "text/plain": [
       "(0, 0.016)"
      ]
     },
     "execution_count": 22,
     "metadata": {},
     "output_type": "execute_result"
    },
    {
     "data": {
      "image/png": "[encoded data removed]",
      "text/plain": [
       "<Figure size 432x288 with 2 Axes>"
      ]
     },
     "metadata": {
      "needs_background": "light"
     },
     "output_type": "display_data"
    }
   ],
   "source": [
    "# Phase 2 plot\n",
    "# todo: discard extreme values, or make some type of normalization\n",
    "# discarded electron and muon energy values above 350\n",
    "\n",
    "\n",
    "# prune muon data\n",
    "mes = []\n",
    "for m in ms: \n",
    "    if(m[0]<350):\n",
    "        mes.append(m[0])\n",
    "mes = np.array(mes)\n",
    "\n",
    "# prune electron data\n",
    "ees = []\n",
    "for e in es: \n",
    "    if(e[0]<350):\n",
    "        ees.append(e[0])\n",
    "ees = np.array(ees)\n",
    "plt.title(\"Lepton Energy\")\n",
    "plt.subplot(1,2,1)\n",
    "plt.title(\"Muon Energy\")\n",
    "plt.hist(mes, label=\"Muons\", color=mc, density=1, bins=100)\n",
    "plt.ylim(0, 0.016)\n",
    "plt.subplot(1,2,2)\n",
    "plt.title(\"Electron Energy\")\n",
    "plt.hist(ees, label=\"Electrons\", color=ec, density=1, bins=100)\n",
    "plt.ylim(0, 0.016)"
   ]
  },
  {
   "cell_type": "code",
   "execution_count": 23,
   "metadata": {},
   "outputs": [
    {
     "data": {
      "image/png": "[encoded data removed]",
      "text/plain": [
       "<Figure size 432x288 with 1 Axes>"
      ]
     },
     "metadata": {
      "needs_background": "light"
     },
     "output_type": "display_data"
    }
   ],
   "source": [
    "# phase 3 plot\n",
    "plt.title(\"Lepton Energy Distribution\")\n",
    "plt.hist(ees, label=\"Electrons\", color=ec, density=1, bins=100)\n",
    "plt.hist(mes, label=\"Muons\", color=mc, density=1, bins=100)\n",
    "plt.ylim(0, 0.016)\n",
    "plt.legend()\n",
    "plt.savefig(\"leptEDist.png\")"
   ]
  },
  {
   "cell_type": "code",
   "execution_count": 24,
   "metadata": {},
   "outputs": [],
   "source": [
    "# Start phase 4"
   ]
  },
  {
   "cell_type": "code",
   "execution_count": 25,
   "metadata": {},
   "outputs": [],
   "source": [
    "e2s = []\n",
    "m2s = []"
   ]
  },
  {
   "cell_type": "code",
   "execution_count": 26,
   "metadata": {},
   "outputs": [],
   "source": [
    "## data is in format e2 p2 \n",
    "for lept, im in zip(e2P2Dec, labels):\n",
    "    if(im==1): \n",
    "        m2s.append(lept)\n",
    "    if(im==0):\n",
    "        e2s.append(lept)\n",
    "e2s = np.array(e2s)\n",
    "m2s = np.array(m2s)"
   ]
  },
  {
   "cell_type": "code",
   "execution_count": 27,
   "metadata": {},
   "outputs": [
    {
     "name": "stdout",
     "output_type": "stream",
     "text": [
      "[4.44654543 4.50502339]\n"
     ]
    }
   ],
   "source": [
    "print(e2s[0])"
   ]
  },
  {
   "cell_type": "code",
   "execution_count": 28,
   "metadata": {},
   "outputs": [],
   "source": [
    "ee2s = e2s[:, 0]\n",
    "ep2s = e2s[:, 1]\n",
    "me2s = m2s[:, 0]\n",
    "mp2s = m2s[:, 1]"
   ]
  },
  {
   "cell_type": "code",
   "execution_count": 29,
   "metadata": {},
   "outputs": [
    {
     "data": {
      "text/plain": [
       "(array([0.09802188, 0.09446668, 0.1023389 , 0.09700611, 0.09091148,\n",
       "        0.09649822, 0.09497457, 0.10030736, 0.10259285, 0.09827582,\n",
       "        0.09573639, 0.09268908, 0.08532474, 0.09979948, 0.10132313,\n",
       "        0.10030736, 0.09649822, 0.10284679, 0.09979948, 0.1094493 ,\n",
       "        0.10665593, 0.10157708, 0.10208496, 0.1058941 , 0.10259285,\n",
       "        0.09726005, 0.09903765, 0.10284679, 0.10106919, 0.09446668,\n",
       "        0.10894141, 0.09522851, 0.10132313, 0.09827582, 0.10665593,\n",
       "        0.09548245, 0.09852976, 0.09573639, 0.10564016, 0.10259285,\n",
       "        0.10564016, 0.10157708, 0.10462439, 0.10360862, 0.0921812 ,\n",
       "        0.10868747, 0.10487833, 0.09548245, 0.10259285, 0.10690987,\n",
       "        0.09243514, 0.10614805, 0.10183102, 0.10462439, 0.10106919,\n",
       "        0.09522851, 0.10081525, 0.09649822, 0.09954554, 0.10386256,\n",
       "        0.1076717 , 0.09979948, 0.10081525, 0.09472062, 0.08837206,\n",
       "        0.10030736, 0.09954554, 0.09116543, 0.09522851, 0.09548245,\n",
       "        0.09802188, 0.09421274, 0.1147821 , 0.1058941 , 0.10157708,\n",
       "        0.09675217, 0.09852976, 0.09649822, 0.09167331, 0.10817959,\n",
       "        0.09548245, 0.10284679, 0.10817959, 0.09472062, 0.10614805,\n",
       "        0.09878371, 0.10284679, 0.09522851, 0.09319697, 0.10056131,\n",
       "        0.10538622, 0.10132313, 0.1076717 , 0.09421274, 0.09979948,\n",
       "        0.10106919, 0.09700611, 0.10335468, 0.09878371, 0.10538622]),\n",
       " array([2.94357320e-04, 1.00289186e-01, 2.00284015e-01, 3.00278844e-01,\n",
       "        4.00273672e-01, 5.00268501e-01, 6.00263330e-01, 7.00258159e-01,\n",
       "        8.00252988e-01, 9.00247816e-01, 1.00024265e+00, 1.10023747e+00,\n",
       "        1.20023230e+00, 1.30022713e+00, 1.40022196e+00, 1.50021679e+00,\n",
       "        1.60021162e+00, 1.70020645e+00, 1.80020128e+00, 1.90019610e+00,\n",
       "        2.00019093e+00, 2.10018576e+00, 2.20018059e+00, 2.30017542e+00,\n",
       "        2.40017025e+00, 2.50016508e+00, 2.60015991e+00, 2.70015473e+00,\n",
       "        2.80014956e+00, 2.90014439e+00, 3.00013922e+00, 3.10013405e+00,\n",
       "        3.20012888e+00, 3.30012371e+00, 3.40011854e+00, 3.50011337e+00,\n",
       "        3.60010819e+00, 3.70010302e+00, 3.80009785e+00, 3.90009268e+00,\n",
       "        4.00008751e+00, 4.10008234e+00, 4.20007717e+00, 4.30007200e+00,\n",
       "        4.40006682e+00, 4.50006165e+00, 4.60005648e+00, 4.70005131e+00,\n",
       "        4.80004614e+00, 4.90004097e+00, 5.00003580e+00, 5.10003063e+00,\n",
       "        5.20002545e+00, 5.30002028e+00, 5.40001511e+00, 5.50000994e+00,\n",
       "        5.60000477e+00, 5.69999960e+00, 5.79999443e+00, 5.89998926e+00,\n",
       "        5.99998408e+00, 6.09997891e+00, 6.19997374e+00, 6.29996857e+00,\n",
       "        6.39996340e+00, 6.49995823e+00, 6.59995306e+00, 6.69994789e+00,\n",
       "        6.79994272e+00, 6.89993754e+00, 6.99993237e+00, 7.09992720e+00,\n",
       "        7.19992203e+00, 7.29991686e+00, 7.39991169e+00, 7.49990652e+00,\n",
       "        7.59990135e+00, 7.69989617e+00, 7.79989100e+00, 7.89988583e+00,\n",
       "        7.99988066e+00, 8.09987549e+00, 8.19987032e+00, 8.29986515e+00,\n",
       "        8.39985998e+00, 8.49985480e+00, 8.59984963e+00, 8.69984446e+00,\n",
       "        8.79983929e+00, 8.89983412e+00, 8.99982895e+00, 9.09982378e+00,\n",
       "        9.19981861e+00, 9.29981343e+00, 9.39980826e+00, 9.49980309e+00,\n",
       "        9.59979792e+00, 9.69979275e+00, 9.79978758e+00, 9.89978241e+00,\n",
       "        9.99977724e+00]),\n",
       " <a list of 100 Patch objects>)"
      ]
     },
     "execution_count": 29,
     "metadata": {},
     "output_type": "execute_result"
    },
    {
     "data": {
      "image/png": "[encoded data removed]",
      "text/plain": [
       "<Figure size 432x288 with 1 Axes>"
      ]
     },
     "metadata": {
      "needs_background": "light"
     },
     "output_type": "display_data"
    }
   ],
   "source": [
    "plt.title(\"Lepton E^2 Distribution\")\n",
    "plt.hist(ee2s, label=\"Electrons\", color=ec, density=1, bins=100)\n",
    "plt.hist(me2s, label=\"Muons\", color=mc, density=1, bins=100)"
   ]
  },
  {
   "cell_type": "code",
   "execution_count": 30,
   "metadata": {},
   "outputs": [
    {
     "data": {
      "text/plain": [
       "(array([0.09929232, 0.10284755, 0.09446738, 0.09065821, 0.09726077,\n",
       "        0.09522921, 0.1003081 , 0.09954627, 0.10005416, 0.09522921,\n",
       "        0.09294371, 0.08735693, 0.09954627, 0.10081599, 0.10056205,\n",
       "        0.0980226 , 0.10183177, 0.09853049, 0.10868827, 0.10741855,\n",
       "        0.10183177, 0.10310149, 0.10284755, 0.10411727, 0.09776866,\n",
       "        0.10360938, 0.09599104, 0.10106994, 0.09980021, 0.10310149,\n",
       "        0.09853049, 0.10005416, 0.10310149, 0.10335544, 0.09700682,\n",
       "        0.09675288, 0.10157782, 0.09929232, 0.10741855, 0.10360938,\n",
       "        0.10106994, 0.10462516, 0.10335544, 0.09091215, 0.11148166,\n",
       "        0.10081599, 0.09776866, 0.09929232, 0.10970405, 0.09522921,\n",
       "        0.10310149, 0.10284755, 0.10564094, 0.09903838, 0.09751471,\n",
       "        0.09903838, 0.09599104, 0.09751471, 0.10792644, 0.10437121,\n",
       "        0.10056205, 0.09827654, 0.09319765, 0.09446738, 0.09776866,\n",
       "        0.10132388, 0.08964243, 0.09954627, 0.09319765, 0.0957371 ,\n",
       "        0.09599104, 0.11376716, 0.11046588, 0.09472132, 0.09853049,\n",
       "        0.09649893, 0.09827654, 0.09370554, 0.10919616, 0.09142004,\n",
       "        0.10538699, 0.1071646 , 0.09370554, 0.10818038, 0.09675288,\n",
       "        0.10411727, 0.09497527, 0.0934516 , 0.09954627, 0.10818038,\n",
       "        0.09853049, 0.11097377, 0.09167399, 0.1003081 , 0.10132388,\n",
       "        0.09649893, 0.10437121, 0.10132388, 0.10335544, 0.09268976]),\n",
       " array([7.73025704e-06, 1.00001823e-01, 1.99995916e-01, 2.99990009e-01,\n",
       "        3.99984102e-01, 4.99978195e-01, 5.99972288e-01, 6.99966381e-01,\n",
       "        7.99960474e-01, 8.99954567e-01, 9.99948660e-01, 1.09994275e+00,\n",
       "        1.19993685e+00, 1.29993094e+00, 1.39992503e+00, 1.49991912e+00,\n",
       "        1.59991322e+00, 1.69990731e+00, 1.79990140e+00, 1.89989550e+00,\n",
       "        1.99988959e+00, 2.09988368e+00, 2.19987777e+00, 2.29987187e+00,\n",
       "        2.39986596e+00, 2.49986005e+00, 2.59985415e+00, 2.69984824e+00,\n",
       "        2.79984233e+00, 2.89983643e+00, 2.99983052e+00, 3.09982461e+00,\n",
       "        3.19981870e+00, 3.29981280e+00, 3.39980689e+00, 3.49980098e+00,\n",
       "        3.59979508e+00, 3.69978917e+00, 3.79978326e+00, 3.89977735e+00,\n",
       "        3.99977145e+00, 4.09976554e+00, 4.19975963e+00, 4.29975373e+00,\n",
       "        4.39974782e+00, 4.49974191e+00, 4.59973601e+00, 4.69973010e+00,\n",
       "        4.79972419e+00, 4.89971828e+00, 4.99971238e+00, 5.09970647e+00,\n",
       "        5.19970056e+00, 5.29969466e+00, 5.39968875e+00, 5.49968284e+00,\n",
       "        5.59967693e+00, 5.69967103e+00, 5.79966512e+00, 5.89965921e+00,\n",
       "        5.99965331e+00, 6.09964740e+00, 6.19964149e+00, 6.29963558e+00,\n",
       "        6.39962968e+00, 6.49962377e+00, 6.59961786e+00, 6.69961196e+00,\n",
       "        6.79960605e+00, 6.89960014e+00, 6.99959424e+00, 7.09958833e+00,\n",
       "        7.19958242e+00, 7.29957651e+00, 7.39957061e+00, 7.49956470e+00,\n",
       "        7.59955879e+00, 7.69955289e+00, 7.79954698e+00, 7.89954107e+00,\n",
       "        7.99953516e+00, 8.09952926e+00, 8.19952335e+00, 8.29951744e+00,\n",
       "        8.39951154e+00, 8.49950563e+00, 8.59949972e+00, 8.69949382e+00,\n",
       "        8.79948791e+00, 8.89948200e+00, 8.99947609e+00, 9.09947019e+00,\n",
       "        9.19946428e+00, 9.29945837e+00, 9.39945247e+00, 9.49944656e+00,\n",
       "        9.59944065e+00, 9.69943474e+00, 9.79942884e+00, 9.89942293e+00,\n",
       "        9.99941702e+00]),\n",
       " <a list of 100 Patch objects>)"
      ]
     },
     "execution_count": 30,
     "metadata": {},
     "output_type": "execute_result"
    },
    {
     "data": {
      "image/png": "[encoded data removed]",
      "text/plain": [
       "<Figure size 432x288 with 1 Axes>"
      ]
     },
     "metadata": {
      "needs_background": "light"
     },
     "output_type": "display_data"
    }
   ],
   "source": [
    "plt.title(\"Lepton P^2 Distribution\")\n",
    "plt.hist(ep2s, label=\"Electrons\", color=ec, density=1, bins=100)\n",
    "plt.hist(mp2s, label=\"Muons\", color=mc, density=1, bins=100)"
   ]
  },
  {
   "cell_type": "code",
   "execution_count": 31,
   "metadata": {},
   "outputs": [],
   "source": [
    "em2sRaw = ee2s-ep2s\n",
    "mm2sRaw = me2s-mp2s\n",
    "em2s = []\n",
    "mm2s = []"
   ]
  },
  {
   "cell_type": "code",
   "execution_count": 32,
   "metadata": {},
   "outputs": [
    {
     "name": "stdout",
     "output_type": "stream",
     "text": [
      "38966\n",
      "0.1117249023354816\n"
     ]
    }
   ],
   "source": [
    "for e in em2sRaw:\n",
    "    if abs(e) < .25:\n",
    "        em2s.append(e)\n",
    "for m in mm2sRaw:\n",
    "    if abs(m) < .25:\n",
    "        mm2s.append(m)\n",
    "print(len(mm2s))\n",
    "print(mm2s[0])"
   ]
  },
  {
   "cell_type": "code",
   "execution_count": 33,
   "metadata": {},
   "outputs": [
    {
     "data": {
      "text/plain": [
       "(array([6.000e+00, 2.000e+00, 5.000e+00, 2.000e+00, 1.000e+00, 1.000e+00,\n",
       "        3.000e+00, 6.000e+00, 3.000e+00, 4.000e+00, 5.000e+00, 3.000e+00,\n",
       "        5.000e+00, 2.000e+00, 9.000e+00, 7.000e+00, 8.000e+00, 6.000e+00,\n",
       "        3.000e+00, 1.200e+01, 1.000e+01, 1.100e+01, 8.000e+00, 2.200e+01,\n",
       "        1.400e+01, 1.400e+01, 3.000e+01, 2.500e+01, 2.600e+01, 2.100e+01,\n",
       "        2.200e+01, 2.400e+01, 3.400e+01, 2.000e+01, 5.000e+01, 4.300e+01,\n",
       "        7.200e+01, 5.500e+01, 6.600e+01, 6.900e+01, 9.300e+01, 1.250e+02,\n",
       "        1.550e+02, 1.980e+02, 2.420e+02, 3.490e+02, 4.860e+02, 7.430e+02,\n",
       "        1.344e+03, 3.178e+03, 1.753e+04, 8.198e+03, 2.334e+03, 1.020e+03,\n",
       "        6.440e+02, 4.570e+02, 3.480e+02, 2.350e+02, 1.840e+02, 1.280e+02,\n",
       "        1.100e+02, 8.400e+01, 6.800e+01, 6.000e+01, 5.100e+01, 5.300e+01,\n",
       "        4.600e+01, 3.100e+01, 2.800e+01, 3.000e+01, 1.900e+01, 2.000e+01,\n",
       "        2.100e+01, 2.600e+01, 2.200e+01, 1.600e+01, 1.200e+01, 1.000e+01,\n",
       "        1.400e+01, 1.000e+01, 1.100e+01, 1.000e+01, 9.000e+00, 3.000e+00,\n",
       "        5.000e+00, 5.000e+00, 3.000e+00, 5.000e+00, 7.000e+00, 7.000e+00,\n",
       "        3.000e+00, 5.000e+00, 1.000e+00, 5.000e+00, 2.000e+00, 4.000e+00,\n",
       "        4.000e+00, 2.000e+00, 1.000e+00, 4.000e+00]),\n",
       " array([-0.24861123, -0.24371947, -0.2388277 , -0.23393594, -0.22904417,\n",
       "        -0.22415241, -0.21926065, -0.21436888, -0.20947712, -0.20458535,\n",
       "        -0.19969359, -0.19480182, -0.18991006, -0.1850183 , -0.18012653,\n",
       "        -0.17523477, -0.170343  , -0.16545124, -0.16055947, -0.15566771,\n",
       "        -0.15077595, -0.14588418, -0.14099242, -0.13610065, -0.13120889,\n",
       "        -0.12631712, -0.12142536, -0.1165336 , -0.11164183, -0.10675007,\n",
       "        -0.1018583 , -0.09696654, -0.09207477, -0.08718301, -0.08229125,\n",
       "        -0.07739948, -0.07250772, -0.06761595, -0.06272419, -0.05783243,\n",
       "        -0.05294066, -0.0480489 , -0.04315713, -0.03826537, -0.0333736 ,\n",
       "        -0.02848184, -0.02359008, -0.01869831, -0.01380655, -0.00891478,\n",
       "        -0.00402302,  0.00086875,  0.00576051,  0.01065227,  0.01554404,\n",
       "         0.0204358 ,  0.02532757,  0.03021933,  0.0351111 ,  0.04000286,\n",
       "         0.04489462,  0.04978639,  0.05467815,  0.05956992,  0.06446168,\n",
       "         0.06935345,  0.07424521,  0.07913697,  0.08402874,  0.0889205 ,\n",
       "         0.09381227,  0.09870403,  0.10359579,  0.10848756,  0.11337932,\n",
       "         0.11827109,  0.12316285,  0.12805462,  0.13294638,  0.13783814,\n",
       "         0.14272991,  0.14762167,  0.15251344,  0.1574052 ,  0.16229697,\n",
       "         0.16718873,  0.17208049,  0.17697226,  0.18186402,  0.18675579,\n",
       "         0.19164755,  0.19653932,  0.20143108,  0.20632284,  0.21121461,\n",
       "         0.21610637,  0.22099814,  0.2258899 ,  0.23078167,  0.23567343,\n",
       "         0.24056519]),\n",
       " <a list of 100 Patch objects>)"
      ]
     },
     "execution_count": 33,
     "metadata": {},
     "output_type": "execute_result"
    },
    {
     "data": {
      "image/png": "[encoded data removed]",
      "text/plain": [
       "<Figure size 432x288 with 1 Axes>"
      ]
     },
     "metadata": {
      "needs_background": "light"
     },
     "output_type": "display_data"
    }
   ],
   "source": [
    "plt.title(\"Electron m^2 Distribution\")\n",
    "plt.hist(em2s, label=\"Electrons\", color=ec, bins=100)"
   ]
  },
  {
   "cell_type": "code",
   "execution_count": 34,
   "metadata": {},
   "outputs": [
    {
     "data": {
      "text/plain": [
       "(array([1.000e+00, 0.000e+00, 0.000e+00, 0.000e+00, 0.000e+00, 0.000e+00,\n",
       "        0.000e+00, 0.000e+00, 0.000e+00, 0.000e+00, 0.000e+00, 0.000e+00,\n",
       "        0.000e+00, 0.000e+00, 0.000e+00, 0.000e+00, 0.000e+00, 0.000e+00,\n",
       "        0.000e+00, 0.000e+00, 0.000e+00, 0.000e+00, 0.000e+00, 0.000e+00,\n",
       "        0.000e+00, 0.000e+00, 0.000e+00, 0.000e+00, 0.000e+00, 0.000e+00,\n",
       "        0.000e+00, 0.000e+00, 0.000e+00, 1.000e+00, 0.000e+00, 0.000e+00,\n",
       "        0.000e+00, 1.000e+00, 1.000e+00, 0.000e+00, 2.000e+00, 2.766e+03,\n",
       "        1.000e+00, 1.000e+00, 0.000e+00, 0.000e+00, 0.000e+00, 0.000e+00,\n",
       "        0.000e+00, 0.000e+00, 0.000e+00, 0.000e+00, 0.000e+00, 0.000e+00,\n",
       "        0.000e+00, 0.000e+00, 0.000e+00, 0.000e+00, 0.000e+00, 0.000e+00,\n",
       "        0.000e+00, 0.000e+00, 0.000e+00, 0.000e+00, 0.000e+00, 0.000e+00,\n",
       "        1.000e+00, 0.000e+00, 0.000e+00, 0.000e+00, 0.000e+00, 0.000e+00,\n",
       "        0.000e+00, 0.000e+00, 0.000e+00, 0.000e+00, 0.000e+00, 0.000e+00,\n",
       "        0.000e+00, 0.000e+00, 3.619e+04, 0.000e+00, 0.000e+00, 0.000e+00,\n",
       "        0.000e+00, 0.000e+00, 0.000e+00, 0.000e+00, 0.000e+00, 0.000e+00,\n",
       "        0.000e+00, 0.000e+00, 0.000e+00, 0.000e+00, 0.000e+00, 0.000e+00,\n",
       "        0.000e+00, 0.000e+00, 0.000e+00, 1.000e+00]),\n",
       " array([0.11154175, 0.11154404, 0.11154633, 0.11154861, 0.1115509 ,\n",
       "        0.11155319, 0.11155548, 0.11155777, 0.11156006, 0.11156235,\n",
       "        0.11156464, 0.11156693, 0.11156921, 0.1115715 , 0.11157379,\n",
       "        0.11157608, 0.11157837, 0.11158066, 0.11158295, 0.11158524,\n",
       "        0.11158752, 0.11158981, 0.1115921 , 0.11159439, 0.11159668,\n",
       "        0.11159897, 0.11160126, 0.11160355, 0.11160583, 0.11160812,\n",
       "        0.11161041, 0.1116127 , 0.11161499, 0.11161728, 0.11161957,\n",
       "        0.11162186, 0.11162415, 0.11162643, 0.11162872, 0.11163101,\n",
       "        0.1116333 , 0.11163559, 0.11163788, 0.11164017, 0.11164246,\n",
       "        0.11164474, 0.11164703, 0.11164932, 0.11165161, 0.1116539 ,\n",
       "        0.11165619, 0.11165848, 0.11166077, 0.11166306, 0.11166534,\n",
       "        0.11166763, 0.11166992, 0.11167221, 0.1116745 , 0.11167679,\n",
       "        0.11167908, 0.11168137, 0.11168365, 0.11168594, 0.11168823,\n",
       "        0.11169052, 0.11169281, 0.1116951 , 0.11169739, 0.11169968,\n",
       "        0.11170197, 0.11170425, 0.11170654, 0.11170883, 0.11171112,\n",
       "        0.11171341, 0.1117157 , 0.11171799, 0.11172028, 0.11172256,\n",
       "        0.11172485, 0.11172714, 0.11172943, 0.11173172, 0.11173401,\n",
       "        0.1117363 , 0.11173859, 0.11174088, 0.11174316, 0.11174545,\n",
       "        0.11174774, 0.11175003, 0.11175232, 0.11175461, 0.1117569 ,\n",
       "        0.11175919, 0.11176147, 0.11176376, 0.11176605, 0.11176834,\n",
       "        0.11177063]),\n",
       " <a list of 100 Patch objects>)"
      ]
     },
     "execution_count": 34,
     "metadata": {},
     "output_type": "execute_result"
    },
    {
     "data": {
      "image/png": "[encoded data removed]",
      "text/plain": [
       "<Figure size 432x288 with 1 Axes>"
      ]
     },
     "metadata": {
      "needs_background": "light"
     },
     "output_type": "display_data"
    }
   ],
   "source": [
    "plt.title(\"Muon m^2 Distribution\")\n",
    "plt.hist(mm2s, label=\"Muons\", color=mc, bins=100)"
   ]
  },
  {
   "cell_type": "code",
   "execution_count": 35,
   "metadata": {},
   "outputs": [
    {
     "data": {
      "text/plain": [
       "<matplotlib.legend.Legend at 0x128de0fd0>"
      ]
     },
     "execution_count": 35,
     "metadata": {},
     "output_type": "execute_result"
    },
    {
     "data": {
      "image/png": "[encoded data removed]",
      "text/plain": [
       "<Figure size 432x288 with 1 Axes>"
      ]
     },
     "metadata": {
      "needs_background": "light"
     },
     "output_type": "display_data"
    }
   ],
   "source": [
    "# phase 3 plot\n",
    "plt.title(\"Lepton Energy Distribution\")\n",
    "plt.hist(ees, label=\"Electrons\", color=ec, density=1, bins=100)\n",
    "plt.hist(mes, label=\"Muons\", color=mc, density=1, bins=100)\n",
    "plt.ylim(0, 0.016)\n",
    "plt.legend()\n"
   ]
  },
  {
   "cell_type": "code",
   "execution_count": null,
   "metadata": {},
   "outputs": [],
   "source": []
  },
  {
   "cell_type": "code",
   "execution_count": null,
   "metadata": {},
   "outputs": [],
   "source": []
  },
  {
   "cell_type": "code",
   "execution_count": null,
   "metadata": {},
   "outputs": [],
   "source": []
  },
  {
   "cell_type": "code",
   "execution_count": null,
   "metadata": {},
   "outputs": [],
   "source": []
  }
 ],
 "metadata": {
  "kernelspec": {
   "display_name": "eulerspython",
   "language": "python",
   "name": "eulerspython"
  },
  "language_info": {
   "codemirror_mode": {
    "name": "ipython",
    "version": 3
   },
   "file_extension": ".py",
   "mimetype": "text/x-python",
   "name": "python",
   "nbconvert_exporter": "python",
   "pygments_lexer": "ipython3",
   "version": "3.6.5"
  }
 },
 "nbformat": 4,
 "nbformat_minor": 2
}

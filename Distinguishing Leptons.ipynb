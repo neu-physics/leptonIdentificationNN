{
 "cells": [
  {
   "cell_type": "code",
   "execution_count": 4,
   "metadata": {},
   "outputs": [],
   "source": [
    "# import stuff\n",
    "import numpy as np\n",
    "import pandas as pd\n",
    "import uproot as ur\n",
    "import math\n",
    "from matplotlib import pyplot as plt\n"
   ]
  },
  {
   "cell_type": "code",
   "execution_count": 13,
   "metadata": {},
   "outputs": [
    {
     "data": {
      "text/plain": [
       "[b'worldTree;31', b'worldTree;30']"
      ]
     },
     "execution_count": 13,
     "metadata": {},
     "output_type": "execute_result"
    }
   ],
   "source": [
    "# get trees\n",
    "file1 = ur.open(\"small_v2.root\")\n",
    "file1.allkeys()\n"
   ]
  },
  {
   "cell_type": "code",
   "execution_count": 14,
   "metadata": {},
   "outputs": [
    {
     "data": {
      "text/plain": [
       "[b'worldTree;31', b'worldTree;30']"
      ]
     },
     "execution_count": 14,
     "metadata": {},
     "output_type": "execute_result"
    }
   ],
   "source": [
    "file2 = ur.open(\"small_v2.root\")\n",
    "file2.allkeys()"
   ]
  },
  {
   "cell_type": "code",
   "execution_count": 15,
   "metadata": {},
   "outputs": [
    {
     "data": {
      "text/plain": [
       "[b'eve.',\n",
       " b'eve.run_',\n",
       " b'eve.lumi_',\n",
       " b'eve.evt_',\n",
       " b'eve.lepton_isMuon_',\n",
       " b'eve.lepton_pt_',\n",
       " b'eve.lepton_eta_',\n",
       " b'eve.lepton_phi_',\n",
       " b'eve.lepton_e_']"
      ]
     },
     "execution_count": 15,
     "metadata": {},
     "output_type": "execute_result"
    }
   ],
   "source": [
    "file2[\"worldTree\"].allkeys()"
   ]
  },
  {
   "cell_type": "code",
   "execution_count": 16,
   "metadata": {},
   "outputs": [],
   "source": [
    "# get branches as arrays\n",
    "leptPt = ur.open(\"small_v2.root\")[\"worldTree\"][\"eve.lepton_pt_\"]\n",
    "leptPt = leptPt.array() # for some reason the leadV function freaks when this is done in one line\n",
    "leptEta = ur.open(\"small_v2.root\")[\"worldTree\"][\"eve.lepton_eta_\"]\n",
    "leptEta = leptEta.array()\n",
    "leptPhi = ur.open(\"small_v2.root\")[\"worldTree\"][\"eve.lepton_phi_\"]\n",
    "leptPhi = leptPhi.array()\n",
    "leptE = ur.open(\"small_v2.root\")[\"worldTree\"][\"eve.lepton_e_\"]\n",
    "leptE = leptE.array()\n",
    "leptIM = ur.open(\"small_v2.root\")[\"worldTree\"][\"eve.lepton_isMuon_\"]\n",
    "leptIM = leptIM.array()"
   ]
  },
  {
   "cell_type": "code",
   "execution_count": 17,
   "metadata": {},
   "outputs": [],
   "source": [
    "# get indices of leading values\n",
    "def leadInd(_array):\n",
    "    indLead = []\n",
    "    for x in _array:\n",
    "        if(len(x)>1):\n",
    "            indLead.append(np.where(x==max(x)))\n",
    "        else:\n",
    "            indLead.append(0) # add an index of zero to the array bc it'll be irrelevant later anyway\n",
    "    return indLead"
   ]
  },
  {
   "cell_type": "code",
   "execution_count": 18,
   "metadata": {},
   "outputs": [
    {
     "data": {
      "text/plain": [
       "88850"
      ]
     },
     "execution_count": 18,
     "metadata": {},
     "output_type": "execute_result"
    }
   ],
   "source": [
    "# get indices of leading values\n",
    "leadIs = leadInd(leptPt)\n",
    "len(leadIs)"
   ]
  },
  {
   "cell_type": "code",
   "execution_count": 19,
   "metadata": {},
   "outputs": [],
   "source": [
    "# defines function to get leading values of jagged array from array of leading indices\n",
    "def leadVals(_array,_indexArray):\n",
    "    arrLead = []\n",
    "    ifCount = 0;\n",
    "    elseCount = 0;\n",
    "    i = 0;\n",
    "    for x in _array:\n",
    "        if(len(x)>1):\n",
    "            ifCount +=1\n",
    "            arrLead.append(x[_indexArray[i]])\n",
    "            i+=1\n",
    "        else: \n",
    "            elseCount +=1\n",
    "            arrLead.append(x)\n",
    "            i+=1\n",
    "    print(\"if, else, sum: \", ifCount, \", \",elseCount, \", \", ifCount+elseCount)\n",
    "    return arrLead"
   ]
  },
  {
   "cell_type": "code",
   "execution_count": 20,
   "metadata": {},
   "outputs": [
    {
     "name": "stdout",
     "output_type": "stream",
     "text": [
      "if, else, sum:  46817 ,  42033 ,  88850\n",
      "if, else, sum:  46817 ,  42033 ,  88850\n",
      "if, else, sum:  46817 ,  42033 ,  88850\n",
      "if, else, sum:  46817 ,  42033 ,  88850\n",
      "if, else, sum:  46817 ,  42033 ,  88850\n",
      "Number of values in each of Pt:  88850 , Eta:  88850 , Phi:  88850 , E:  88850  IM:  88850\n"
     ]
    }
   ],
   "source": [
    "# get array of leading values\n",
    "leadPt = leadVals(leptPt, leadIs)\n",
    "leadEta = leadVals(leptEta, leadIs)\n",
    "leadPhi = leadVals(leptPhi, leadIs)\n",
    "leadE = leadVals(leptE, leadIs)\n",
    "leadIM = leadVals(leptIM, leadIs)\n",
    "print(\"Number of values in each of Pt: \", len(leadPt), \", Eta: \", len(leadEta), \", Phi: \", len(leadPhi), \", E: \", len(leadE), \" IM: \", len(leadIM))"
   ]
  },
  {
   "cell_type": "code",
   "execution_count": 24,
   "metadata": {},
   "outputs": [
    {
     "name": "stdout",
     "output_type": "stream",
     "text": [
      "check yo self(your algorithm is probbaly broken because it's either an electron or muon, smh)\n"
     ]
    },
    {
     "name": "stderr",
     "output_type": "stream",
     "text": [
      "/Users/annacuddeback/LHCResearch/venv/lib/python3.6/site-packages/ipykernel_launcher.py:4: DeprecationWarning: The truth value of an empty array is ambiguous. Returning False, but in future this will result in an error. Use `array.size > 0` to check that an array is not empty.\n",
      "  after removing the cwd from sys.path.\n",
      "/Users/annacuddeback/LHCResearch/venv/lib/python3.6/site-packages/ipykernel_launcher.py:6: DeprecationWarning: The truth value of an empty array is ambiguous. Returning False, but in future this will result in an error. Use `array.size > 0` to check that an array is not empty.\n",
      "  \n"
     ]
    }
   ],
   "source": [
    "muons = []\n",
    "electrons = []\n",
    "for i in leadIM:\n",
    "    if(i==0):\n",
    "        electrons.append(i)\n",
    "    elif(i==1):\n",
    "        electrons.append(i)\n",
    "    else:\n",
    "        print(\"check yo self(your algorithm is probbaly broken because it's either an electron or muon, smh)\")\n",
    "        break\n",
    "    "
   ]
  },
  {
   "cell_type": "code",
   "execution_count": 22,
   "metadata": {},
   "outputs": [
    {
     "name": "stdout",
     "output_type": "stream",
     "text": [
      "88850\n"
     ]
    }
   ],
   "source": [
    "print(len(leadIM))"
   ]
  },
  {
   "cell_type": "code",
   "execution_count": null,
   "metadata": {},
   "outputs": [],
   "source": []
  }
 ],
 "metadata": {
  "kernelspec": {
   "display_name": "eulerspython",
   "language": "python",
   "name": "eulerspython"
  },
  "language_info": {
   "codemirror_mode": {
    "name": "ipython",
    "version": 3
   },
   "file_extension": ".py",
   "mimetype": "text/x-python",
   "name": "python",
   "nbconvert_exporter": "python",
   "pygments_lexer": "ipython3",
   "version": "3.6.5"
  }
 },
 "nbformat": 4,
 "nbformat_minor": 2
}

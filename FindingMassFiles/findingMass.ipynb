{
 "cells": [
  {
   "cell_type": "code",
   "execution_count": 1,
   "metadata": {},
   "outputs": [],
   "source": [
    "# import stuff\n",
    "import numpy as np\n",
    "import pandas as pd\n",
    "import uproot as ur\n",
    "import math\n",
    "from matplotlib import pyplot as plt\n",
    "import matplotlib.patches as mpatches"
   ]
  },
  {
   "cell_type": "code",
   "execution_count": 2,
   "metadata": {},
   "outputs": [],
   "source": [
    "##############################\n",
    "## Start of defining functions\n",
    "\n",
    "# get indices of leading values\n",
    "def leadInd(_array):\n",
    "    indLead = []\n",
    "    for x in _array:\n",
    "        if(len(x)>1):\n",
    "            indLead.append(np.where(x==max(x)))\n",
    "        else:\n",
    "            indLead.append(0) # add an index of zero to the array bc it'll be irrelevant later anyway\n",
    "    return indLead\n",
    "\n",
    "# get leading values of jagged array from array of leading indices\n",
    "def leadVals(_array,_indexArray):\n",
    "    arrLead = []\n",
    "    ifCount = 0\n",
    "    elseCount = 0\n",
    "    i = 0\n",
    "    for x in _array:\n",
    "        if(len(x)>1):\n",
    "            ifCount +=1\n",
    "            arrLead.append(x[_indexArray[i][0]])\n",
    "            i+=1\n",
    "        else: \n",
    "            elseCount +=1\n",
    "            arrLead.append(x)\n",
    "            i+=1\n",
    "    return arrLead\n",
    "\n",
    "# return array of tuples of Ptx and Pty\n",
    "def ptXY(_ptArr, _phiArr):\n",
    "    compArr = []\n",
    "    i = 0\n",
    "    for j in _ptArr:\n",
    "        pt = j\n",
    "        phi = _phiArr[i]\n",
    "        ptx = np.cos(phi)*pt\n",
    "        pty = np.sin(phi)*pt\n",
    "        i+=1\n",
    "        compArr.append((ptx,pty))\n",
    "    return compArr\n",
    " \n",
    "# find pz from pt and eta\n",
    "def pzPtEta(_pt, _eta):\n",
    "    pz = _pt*np.sinh(_eta)\n",
    "    return pz\n",
    "\n",
    "# get array of (x, y, z) tuples from xyComps and pzArr\n",
    "def ptXYZ(_ptArr, _phiArr, _etaArr): #where _xyComps is an array of (x, y) tuples\n",
    "    # make array of tuples (px, py, pz)\n",
    "    compArr = []\n",
    "    for pt, phi, eta in zip(_ptArr, _phiArr, _etaArr):\n",
    "        px = np.cos(phi)*pt\n",
    "        py = np.sin(phi)*pt\n",
    "        pz = pzPtEta(pt, eta)\n",
    "        compArr.append((px, py, pz)) # for some reason each element of this tupe is an array of length 1\n",
    "    return compArr\n",
    "\n",
    "#  get the magnitude of a vector from its components\n",
    "def vMag(_x, _y, _z):\n",
    "    vm = np.sqrt((_x**2)+(_y**2)+(_z**2))\n",
    "    return vm\n",
    "\n",
    "# get momentum from array of three-tuples of components\n",
    "def pVals(_xyzCompArray):\n",
    "    pArr = []\n",
    "    for e in _xyzCompArray:\n",
    "        p = vMag(e[0], e[1], e[2]) \n",
    "        pArr.append(p)\n",
    "    return pArr\n",
    "\n",
    "# get leg of a right triangle\n",
    "def findLeg(_hypotenuse, _otherLeg): # now it's the pythagorean theorem and widely applicable haha\n",
    "    if(_otherLeg > _hypotenuse):\n",
    "        return (-1)\n",
    "    else:\n",
    "        l2 = np.sqrt((_hypotenuse**2)-(_otherLeg**2))\n",
    "        return l2\n",
    "\n",
    "# find mass array from arrays of energy and momentum and also hot encoded isMuon value\n",
    "def findMass(_eArr, _pArr, _isMuonArr):\n",
    "    massArr = []\n",
    "    for e, p, im in zip(_eArr, _pArr, _isMuonArr):\n",
    "        m = (findLeg(e, p), im)\n",
    "        if (np.isnan(findLeg(e,p))):\n",
    "            m = (-1, im) # -1 to indicate that it's a nan value\n",
    "        if(im==1 or im==0): # if the isMuon value isn't null\n",
    "            massArr.append(m)\n",
    "    return massArr\n",
    "\n",
    "# determine if a list contains a nan value\n",
    "def containsNAN(_list):\n",
    "    for i in _list:\n",
    "        if(not all(i)==True):\n",
    "            return True\n",
    "    return False\n",
    "\n",
    "# decides if the lepton is a muon based on its mass\n",
    "def isMuon(_mass):\n",
    "    if(_mass > .1):\n",
    "        return 1\n",
    "    else:\n",
    "        return 0\n",
    "\n",
    "# takes in an array of masses and returns a list counting nan muons \n",
    "def nanMassLept(_massArr):\n",
    "    nanLepts = []\n",
    "    for m in _massArr:\n",
    "        if(m == (-1, 0)):\n",
    "            nanLepts.append(0) # the null is an electron\n",
    "        elif(m == (-1, 1)):\n",
    "            nanLepts.append(1) # the null is a muon\n",
    "    return nanLepts\n",
    "\n",
    "\n",
    "## - testEE things that are tested to be electrons and actually are (true negative)\n",
    "## - testEM things that are tested to be electrons and are actually muons (false negative)\n",
    "## - testMM things that are tested to be muons and actually are (true positive)\n",
    "## - testME that are tested to be muons and are actually electrons (false positive)\n",
    "\n",
    "\n",
    "# gets false positive rate\n",
    "def falsePositiveRate(_falsePos, _truePos):\n",
    "    rate = _falsePos/_truePos\n",
    "    return (rate)\n",
    "\n",
    "\n",
    "def testEfficiency(_trueTestPos, _truePos):\n",
    "    return _trueTestPos/_truePos\n",
    "\n",
    "## End of defining functions\n",
    "############################"
   ]
  },
  {
   "cell_type": "code",
   "execution_count": 3,
   "metadata": {},
   "outputs": [
    {
     "name": "stdout",
     "output_type": "stream",
     "text": [
      "Number of values in each of Pt:  88850 , Eta:  88850 , Phi:  88850 , E:  88850 Lead IM:  88850\n"
     ]
    }
   ],
   "source": [
    "########################\n",
    "## Start of data pruning\n",
    "\n",
    "# get tree\n",
    "file = ur.open(\"small_v2.root\")\n",
    "file.allkeys()\n",
    "\n",
    "# get branch\n",
    "tree = ur.open(\"small_v2.root\")[\"worldTree\"]\n",
    "tree.allkeys()\n",
    "\n",
    "# get branches as arrays\n",
    "leptPt = ur.open(\"small_v2.root\")[\"worldTree\"][\"eve.lepton_pt_\"]\n",
    "leptEta = ur.open(\"small_v2.root\")[\"worldTree\"][\"eve.lepton_eta_\"]\n",
    "leptPhi = ur.open(\"small_v2.root\")[\"worldTree\"][\"eve.lepton_phi_\"]\n",
    "leptE = ur.open(\"small_v2.root\")[\"worldTree\"][\"eve.lepton_e_\"]\n",
    "leptIM = ur.open(\"small_v2.root\")[\"worldTree\"][\"eve.lepton_isMuon_\"]\n",
    "leptPt = leptPt.array() # for some reason the leadV function freaks when this is done in one line\n",
    "leptEta = leptEta.array()\n",
    "leptPhi = leptPhi.array()\n",
    "leptE = leptE.array()\n",
    "leptIM = leptIM.array()\n",
    "\n",
    "\n",
    "# get indices of leading values\n",
    "leadIs = leadInd(leptPt)\n",
    "len(leadIs)\n",
    "\n",
    "\n",
    "# get array of leading values\n",
    "leadPt = leadVals(leptPt, leadIs)\n",
    "leadEta = leadVals(leptEta, leadIs)\n",
    "leadPhi = leadVals(leptPhi, leadIs)\n",
    "leadE = leadVals(leptE, leadIs)\n",
    "leadIM = leadVals(leptIM, leadIs)\n",
    "print(\"Number of values in each of Pt: \", len(leadPt), \", Eta: \", len(leadEta), \", Phi: \", len(leadPhi), \", E: \", len(leadE), \"Lead IM: \", len(leadIM))\n",
    "\n",
    "## End of data pruning\n",
    "######################"
   ]
  },
  {
   "cell_type": "code",
   "execution_count": 4,
   "metadata": {},
   "outputs": [
    {
     "name": "stdout",
     "output_type": "stream",
     "text": [
      "number of (x,y) tuples:  88850\n",
      "xyzPComps element structure (array([-19.5172343]), array([65.36079359]), array([42.07567028]))\n",
      "80.14560376073372\n"
     ]
    }
   ],
   "source": [
    "############################\n",
    "## Start of finding momentum \n",
    "\n",
    "\n",
    "# get array of types of ptx and pty\n",
    "xyComps = []\n",
    "xyComps = ptXY(leadPt, leadPhi)\n",
    "print(\"number of (x,y) tuples: \", len(xyComps))\n",
    "\n",
    "# # print (x,y)\n",
    "# for i in range(5):\n",
    "#     print(xyComps[i])\n",
    "\n",
    "# create array of three-tuples of (x,y,z)\n",
    "xyzPComps = []\n",
    "xyzPComps = ptXYZ(leadPt, leadPhi, leadEta)\n",
    "print(\"xyzPComps element structure\",xyzPComps[0]) # shows each element of xyzPComps is three-tuple of arrays of length 1\n",
    "\n",
    "# print(\"THE FOLLOWING IS RIGHT IF THE X AND Y VALUES MATCH THE ONES FROM ptXY!!\")\n",
    "# # print (x,y,z)\n",
    "# for i in range(5):\n",
    "#     print(xyzPComps[i])\n",
    "\n",
    "print(vMag(xyzPComps[0][0][0],xyzPComps[0][1][0], xyzPComps[0][2][0])) # first element, xyz, get the value of array of length 1\n",
    "\n",
    "leadP = []\n",
    "leadP = pVals(xyzPComps)\n",
    "\n",
    "## End of finding momentum \n",
    "##########################"
   ]
  },
  {
   "cell_type": "code",
   "execution_count": 16,
   "metadata": {},
   "outputs": [],
   "source": [
    "########################\n",
    "## Start of finding mass"
   ]
  },
  {
   "cell_type": "code",
   "execution_count": 5,
   "metadata": {},
   "outputs": [
    {
     "name": "stderr",
     "output_type": "stream",
     "text": [
      "/Users/annacuddeback/LHCResearch/venv/lib/python3.6/site-packages/ipykernel_launcher.py:75: DeprecationWarning: The truth value of an empty array is ambiguous. Returning False, but in future this will result in an error. Use `array.size > 0` to check that an array is not empty.\n",
      "/Users/annacuddeback/LHCResearch/venv/lib/python3.6/site-packages/ipykernel_launcher.py:86: DeprecationWarning: The truth value of an empty array is ambiguous. Returning False, but in future this will result in an error. Use `array.size > 0` to check that an array is not empty.\n",
      "/Users/annacuddeback/LHCResearch/venv/lib/python3.6/site-packages/ipykernel_launcher.py:88: DeprecationWarning: The truth value of an empty array is ambiguous. Returning False, but in future this will result in an error. Use `array.size > 0` to check that an array is not empty.\n"
     ]
    },
    {
     "name": "stdout",
     "output_type": "stream",
     "text": [
      "length of leadM:  79102\n",
      "leadM contains nan:  True\n",
      "134\n"
     ]
    },
    {
     "data": {
      "image/png": "[encoded data removed]",
      "text/plain": [
       "<Figure size 432x288 with 1 Axes>"
      ]
     },
     "metadata": {
      "needs_background": "light"
     },
     "output_type": "display_data"
    }
   ],
   "source": [
    "leadM = []\n",
    "leadM = findMass(leadE, leadP, leadIM)\n",
    "\n",
    "# for i in range(5):\n",
    "#     print(leadM[i])\n",
    "\n",
    "print(\"length of leadM: \", len(leadM))\n",
    "print(\"leadM contains nan: \", containsNAN(leadM))\n",
    "\n",
    "plotMass = []\n",
    "for i in leadM:\n",
    "    if(i[0]>0):\n",
    "        plotMass.append(i[0][0])\n",
    "    else:\n",
    "        plotMass.append(-1)\n",
    "\n",
    "constrainedPlotMass = []\n",
    "plotHugeCount = 0\n",
    "for i in plotMass:\n",
    "    if(i>0) and i<(0.125):\n",
    "        constrainedPlotMass.append(i)\n",
    "    if(i>.125):\n",
    "        plotHugeCount = plotHugeCount+1\n",
    "\n",
    "print(plotHugeCount)\n",
    "\n",
    "plt.hist(constrainedPlotMass, bins=50)\n",
    "plt.title(\"Fig 1. Distribution of Real Lepton Masses Less Than .125 GeV/c^2\")\n",
    "plt.xlabel(\"Mass, m, GeV/c^2\")\n",
    "plt.ylabel(\"Frequency\")\n",
    "plt.show()"
   ]
  },
  {
   "cell_type": "code",
   "execution_count": 6,
   "metadata": {},
   "outputs": [
    {
     "name": "stdout",
     "output_type": "stream",
     "text": [
      "LEAD IM LENGTH: 88850\n",
      "SMALL_V2 ISMUON VALUES ET ALIA\n",
      " - Muon count: 39381\n",
      " - Not muon count: 49469\n",
      " - Electron count: 39721\n",
      " - No isMuon value count: 9748\n",
      " - Lepton count: 79102\n"
     ]
    },
    {
     "name": "stderr",
     "output_type": "stream",
     "text": [
      "/Users/annacuddeback/LHCResearch/venv/lib/python3.6/site-packages/ipykernel_launcher.py:22: DeprecationWarning: The truth value of an empty array is ambiguous. Returning False, but in future this will result in an error. Use `array.size > 0` to check that an array is not empty.\n",
      "/Users/annacuddeback/LHCResearch/venv/lib/python3.6/site-packages/ipykernel_launcher.py:24: DeprecationWarning: The truth value of an empty array is ambiguous. Returning False, but in future this will result in an error. Use `array.size > 0` to check that an array is not empty.\n"
     ]
    },
    {
     "name": "stdout",
     "output_type": "stream",
     "text": [
      "NaN LEPTS: 19771\n",
      "Anna's electron count not including nan values 19644\n",
      "Anna's electron count including nan values (also Anna's test negative) 39415\n",
      "Anna's muon count: 39687\n",
      "small_v2's electron count 39721\n",
      "number of values in plotmass: 79102\n"
     ]
    }
   ],
   "source": [
    "\n",
    "# amount of electrons vs muons\n",
    "eAnna = [] # electrons as determined by anna\n",
    "mAnna = [] # muons as determined by anna\n",
    "nanAnna = 0 # nan as determined by anna\n",
    "\n",
    "\n",
    "for i in leadM:\n",
    "    if(isMuon(i[0])==1):\n",
    "        mAnna.append(i)\n",
    "    elif(isMuon(i[0])==0):\n",
    "        eAnna.append(i)\n",
    "    else:\n",
    "        nanAnna = nanAnna+1\n",
    "\n",
    "sElectrons = 0 # number of electrons as determined by small_v2\n",
    "sMuons = 0 # number of muons as determined by small_v2\n",
    "sNotMuon = 0\n",
    "sNoIM = 0\n",
    "print(\"LEAD IM LENGTH:\", len(leadIM))\n",
    "for i in leadIM:\n",
    "    if(i==1):\n",
    "        sMuons = sMuons + 1\n",
    "    elif(i==0):\n",
    "        sElectrons = sElectrons + 1\n",
    "        sNotMuon = sNotMuon +1\n",
    "    else:\n",
    "        sNotMuon = sNotMuon +1\n",
    "        sNoIM = sNoIM +1\n",
    "\n",
    "print(\"SMALL_V2 ISMUON VALUES ET ALIA\")\n",
    "print(\" - Muon count:\", sMuons)\n",
    "print(\" - Not muon count:\", sNotMuon)\n",
    "print(\" - Electron count:\", sElectrons)\n",
    "print(\" - No isMuon value count:\", sNoIM)\n",
    "print(\" - Lepton count:\", (sMuons + sElectrons))\n",
    "\n",
    "nanLepts = []\n",
    "nanLepts = nanMassLept(leadM)\n",
    "\n",
    "nanMuonsCount = sum(nanLepts) # true positives\n",
    "nanElectronsCount = len(nanLepts)-sum(nanLepts) # true negatives\n",
    "\n",
    "aMuons = len(mAnna) # test positives\n",
    "aElectrons = len(eAnna) # test negatives\n",
    "# print(\"AS IDENTIFIED BY ANNA: Number of muons-\", aMuons, \". Number of electrons-\", aElectrons)\n",
    "# print(\"AS IDENTIFIED BY ANNA: Number of nan:\", nanAnna)\n",
    "# print(\"AS IDENTIFIED BY small_v2: Number of muons-\", sMuons, \". Number of electrons-\", sElectrons)\n",
    "# print(\"AS IDENTIFIED BY small_v2: Number of nan muons-\", nanMuonsCount, \". Number of nan electrons-\", nanElectronsCount )\n",
    "# print(\"total leptons (from small_v2):\",sMuons + sElectrons)\n",
    "# print(\"total leptons, nan or otherwise (from anna):\", nanAnna + aMuons + aElectrons)\n",
    "# print(\"NAN MUONS !!!!!!: \", nanMuonsCount) #nan values with isMuon=1 hot encoding\n",
    "\n",
    "print(\"NaN LEPTS:\", len(nanLepts))\n",
    "print(\"Anna's electron count not including nan values\", aElectrons - len(nanLepts))\n",
    "aElectrons = aElectrons + nanAnna #Anna has decided all nan mass values are electrons YEET\n",
    "print(\"Anna's electron count including nan values (also Anna's test negative)\", aElectrons)\n",
    "print(\"Anna's muon count:\", len(mAnna))\n",
    "print(\"small_v2's electron count\", sElectrons)\n",
    "\n",
    "\n",
    "\n",
    "print(\"number of values in plotmass:\", len(plotMass))\n"
   ]
  },
  {
   "cell_type": "code",
   "execution_count": 7,
   "metadata": {},
   "outputs": [
    {
     "name": "stdout",
     "output_type": "stream",
     "text": [
      "noLeptonsCount: 0 noLeptonsCount 0 someOtherErrorCount 0\n",
      "testEE: 39415 testEM 0 testMM 39381 testME 306\n",
      " - electron false positives: 0.0\n",
      " - electron efficiency: 0.9922962664585484\n",
      " - muon false positives: 0.0077702445341662225\n",
      " - muon efficiency: 1.0\n"
     ]
    }
   ],
   "source": [
    "\n",
    "# count number of true & false positives and true & false negatives\n",
    "## testEE things that are tested to be electrons and actually are (true negative)\n",
    "testEE = 0\n",
    "## testEM things that are tested to be electrons and are actually muons (false negative)\n",
    "testEM = 0\n",
    "## testMM things that are tested to be muons and actually are (true positive)\n",
    "testMM = 0\n",
    "## testME that are tested to be muons and are actually electrons (false positive)\n",
    "testME = 0\n",
    "\n",
    "# print(\"LEAD M AND LEAD IM FORMAT HERE!!!!! mass:\", leadM[0][0],\"isMuon:\", leadM[0][1])\n",
    "\n",
    "noLeptonsCount = 0\n",
    "someOtherErrorCount = 0\n",
    "\n",
    "for m in leadM:\n",
    "    _mass = m[0]\n",
    "    _heIM = m[1]\n",
    "    _isMuon = isMuon(_mass)\n",
    "    if(_isMuon==1): # if a test muon\n",
    "        if(_heIM==1): # if a true muon\n",
    "            testMM = testMM+1\n",
    "        elif(_heIM==0):\n",
    "            testME = testME+1\n",
    "        else:\n",
    "            noLeptonsCount = noLeptonsCount+1\n",
    "    elif(_isMuon==0):\n",
    "        if(_heIM==0):\n",
    "            testEE = testEE+1\n",
    "        elif(_heIM==1):\n",
    "            testEM = testEM+1\n",
    "        else:\n",
    "            noLeptonsCount = noLeptonsCount+1\n",
    "    else:\n",
    "        someOtherErrorCount = someOtherErrorCount+1\n",
    "\n",
    "\n",
    "        \n",
    "print(\"noLeptonsCount:\", noLeptonsCount, \"noLeptonsCount\", noLeptonsCount, \"someOtherErrorCount\", someOtherErrorCount)\n",
    "print(\"testEE:\", testEE, \"testEM\", testEM, \"testMM\", testMM, \"testME\", testME)\n",
    "        \n",
    "print(\" - electron false positives:\", falsePositiveRate(testEM, sElectrons))\n",
    "print(\" - electron efficiency:\", testEfficiency(testEE, sElectrons))\n",
    "print(\" - muon false positives:\", falsePositiveRate(testME, sMuons))\n",
    "print(\" - muon efficiency:\", testEfficiency(testMM, sMuons))\n"
   ]
  },
  {
   "cell_type": "code",
   "execution_count": 8,
   "metadata": {},
   "outputs": [
    {
     "name": "stdout",
     "output_type": "stream",
     "text": [
      " - Number of huge particles: 134\n",
      " - Number of huge particles that are muons: 0\n",
      "plotMassNoIMCount: 0\n"
     ]
    }
   ],
   "source": [
    "hugeMassCount = 0\n",
    "hugeMassIsMuonCount = 0\n",
    "\n",
    "for m in leadM:\n",
    "    if(m[0]>.125):\n",
    "        hugeMassCount = hugeMassCount+1\n",
    "        if(m[1]==1):\n",
    "            hugeMassIsMuonCount = hugeMassIsMuonCount+1\n",
    "\n",
    "print(\" - Number of huge particles:\", hugeMassCount)\n",
    "print(\" - Number of huge particles that are muons:\", hugeMassIsMuonCount)\n",
    "\n",
    "muonPlotMass = []\n",
    "electronPlotMass = []\n",
    "plotMassNoIMCount = 0\n",
    "for i in leadM:\n",
    "    if(i[1]==1): # if it's a muon\n",
    "        muonPlotMass.append(i[0][0])\n",
    "    elif(i[1]==0): # if it's an electron\n",
    "        if(type(i[0])==list):\n",
    "            _mass = i[0][0]\n",
    "        else:\n",
    "            _mass = i[0]\n",
    "        if(_mass > 0):\n",
    "            electronPlotMass.append(_mass)\n",
    "        else:\n",
    "            electronPlotMass.append(-.1)\n",
    "    else: plotMassNoIMCount = plotMassNoIMCount+1\n",
    "    # if(i[0]>0):\n",
    "    #     if(i[1]==1): # if it's a muon\n",
    "    #         muonPlotMass.append(i[0][0])\n",
    "    #     elif(i[1]==0): # if it's an electron\n",
    "    #         electronPlotMass.append(i[0][0])\n",
    "    # else:\n",
    "    #     electronPlotMass.append(-1)\n",
    "\n",
    "print(\"plotMassNoIMCount:\", plotMassNoIMCount)\n"
   ]
  },
  {
   "cell_type": "code",
   "execution_count": 9,
   "metadata": {},
   "outputs": [
    {
     "name": "stdout",
     "output_type": "stream",
     "text": [
      "MUON STATISTICS:\n",
      " - Muon standard deviation: 1.0717140183508723e-05\n",
      " - Muon mean: 0.1056970343576764\n"
     ]
    }
   ],
   "source": [
    "muonStd = np.std(muonPlotMass)\n",
    "muonMean = np.mean(muonPlotMass)\n",
    "print(\"MUON STATISTICS:\")\n",
    "print(\" - Muon standard deviation:\", muonStd)\n",
    "print(\" - Muon mean:\", muonMean)"
   ]
  },
  {
   "cell_type": "code",
   "execution_count": 12,
   "metadata": {},
   "outputs": [
    {
     "data": {
      "image/png": "[encoded data removed]",
      "text/plain": [
       "<Figure size 432x288 with 1 Axes>"
      ]
     },
     "metadata": {
      "needs_background": "light"
     },
     "output_type": "display_data"
    }
   ],
   "source": [
    "\n",
    "plt.hist(muonPlotMass, bins=50) #not sure why the bin number doens't actually look like 100\n",
    "plt.title(\"Figure 2. \\nDistribution of muon mass values measured in GeV/c^2\")\n",
    "plt.ylabel(\"Frequency\")\n",
    "plt.xlabel(\"Mass, m, GeV/c^2\")\n",
    "blue_patch = mpatches.Patch(color='blue', label='The blue data')\n",
    "# plt.xlim(left=0, right=0.125)\n"
   ]
  },
  {
   "cell_type": "code",
   "execution_count": 14,
   "metadata": {},
   "outputs": [
    {
     "data": {
      "text/plain": [
       "Text(0.5, 0, 'Mass, m, GeV/c^2')"
      ]
     },
     "execution_count": 14,
     "metadata": {},
     "output_type": "execute_result"
    },
    {
     "data": {
      "image/png": "[encoded data removed]",
      "text/plain": [
       "<Figure size 432x288 with 1 Axes>"
      ]
     },
     "metadata": {
      "needs_background": "light"
     },
     "output_type": "display_data"
    }
   ],
   "source": [
    "plt.plot\n",
    "plt.hist(electronPlotMass, bins=50) #not sure why the bin number doens't actually look like 100\n",
    "plt.yscale(\"log\")\n",
    "plt.title(\"Figure 3. \\nDistribution of electron mass values measured in GeV/c^2\")\n",
    "plt.ylabel(\"Log10(frequency)\")\n",
    "plt.xlabel(\"Mass, m, GeV/c^2\")\n"
   ]
  },
  {
   "cell_type": "code",
   "execution_count": 15,
   "metadata": {},
   "outputs": [],
   "source": [
    "## End of finding mass\n",
    "######################"
   ]
  },
  {
   "cell_type": "code",
   "execution_count": null,
   "metadata": {},
   "outputs": [],
   "source": []
  }
 ],
 "metadata": {
  "kernelspec": {
   "display_name": "eulerspython",
   "language": "python",
   "name": "eulerspython"
  },
  "language_info": {
   "codemirror_mode": {
    "name": "ipython",
    "version": 3
   },
   "file_extension": ".py",
   "mimetype": "text/x-python",
   "name": "python",
   "nbconvert_exporter": "python",
   "pygments_lexer": "ipython3",
   "version": "3.6.5"
  }
 },
 "nbformat": 4,
 "nbformat_minor": 2
}
